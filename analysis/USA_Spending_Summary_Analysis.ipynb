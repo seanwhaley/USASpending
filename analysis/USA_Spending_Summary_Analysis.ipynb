{
 "cells": [
  {
   "cell_type": "markdown",
   "metadata": {},
   "source": [
    "# Summarize FY2024 and FY 2025 USA Spending Data\n",
    "\n",
    "This notebook analyzes contract data from the USA Spending database for fiscal years 2024 and 2025. The workflow:\n",
    "\n",
    "1. **Data Acquisition**: Connects to the USASpending API to fetch contract data for Department of Justice (agency 17) for fiscal years 2024 and 2025.\n",
    "2. **Data Download**: Automatically downloads ZIP files containing contract data based on URLs returned by the API.\n",
    "3. **Data Extraction**: Extracts the downloaded ZIP files into a data folder.\n",
    "4. **Data Processing**: Reads and combines all CSV files into a single dataframe, then extracts key contract information including award IDs, recipient details, product/service codes, modification dates, and award values.\n",
    "5. **Analysis**: Creates four different summary views of the data:\n",
    "    - **By Award ID**: Groups contracts by award ID to identify the largest contracts by total potential value\n",
    "    - **By Recipient**: Groups by recipient UEI to analyze which vendors received the most contract dollars\n",
    "    - **By Parent Recipient**: Aggregates by parent organizations to understand overall organizational contract awards\n",
    "    - **By Product/Service Code**: Identifies which types of products and services received the most funding\n",
    "6. **Data Export**: Saves all views to a multi-sheet Excel file for further analysis and sharing\n",
    "\n",
    "The analysis reveals significant contract awards, with some individual contracts valued at over a billion dollars. The data includes detailed information about recipients, contract modifications, and the types of products and services being procured by the Department of Justice."
   ]
  },
  {
   "cell_type": "code",
   "execution_count": 1,
   "metadata": {},
   "outputs": [],
   "source": [
    "# import necessary libraries\n",
    "import numpy as np\n",
    "import pandas as pd\n",
    "import requests\n",
    "import zipfile\n",
    "import os"
   ]
  },
  {
   "cell_type": "code",
   "execution_count": 2,
   "metadata": {},
   "outputs": [
    {
     "data": {
      "application/vnd.microsoft.datawrangler.viewer.v0+json": {
       "columns": [
        {
         "name": "index",
         "rawType": "int64",
         "type": "integer"
        },
        {
         "name": "fiscal_year",
         "rawType": "object",
         "type": "string"
        },
        {
         "name": "agency_name",
         "rawType": "object",
         "type": "string"
        },
        {
         "name": "agency_acronym",
         "rawType": "object",
         "type": "string"
        },
        {
         "name": "type",
         "rawType": "object",
         "type": "string"
        },
        {
         "name": "updated_date",
         "rawType": "object",
         "type": "string"
        },
        {
         "name": "file_name",
         "rawType": "object",
         "type": "string"
        },
        {
         "name": "url",
         "rawType": "object",
         "type": "string"
        }
       ],
       "conversionMethod": "pd.DataFrame",
       "ref": "95d1238d-3f8c-40ec-93da-1adc17cc0d70",
       "rows": [
        [
         "0",
         "2024",
         "Department of Justice",
         "DOJ",
         "contracts",
         "2025-02-06",
         "FY2024_015_Contracts_Full_20250206.zip",
         "https://files.usaspending.gov/award_data_archive/FY2024_015_Contracts_Full_20250206.zip"
        ],
        [
         "1",
         "2025",
         "Department of Justice",
         "DOJ",
         "contracts",
         "2025-02-06",
         "FY2025_015_Contracts_Full_20250206.zip",
         "https://files.usaspending.gov/award_data_archive/FY2025_015_Contracts_Full_20250206.zip"
        ]
       ],
       "shape": {
        "columns": 7,
        "rows": 2
       }
      },
      "text/html": [
       "<div>\n",
       "<style scoped>\n",
       "    .dataframe tbody tr th:only-of-type {\n",
       "        vertical-align: middle;\n",
       "    }\n",
       "\n",
       "    .dataframe tbody tr th {\n",
       "        vertical-align: top;\n",
       "    }\n",
       "\n",
       "    .dataframe thead th {\n",
       "        text-align: right;\n",
       "    }\n",
       "</style>\n",
       "<table border=\"1\" class=\"dataframe\">\n",
       "  <thead>\n",
       "    <tr style=\"text-align: right;\">\n",
       "      <th></th>\n",
       "      <th>fiscal_year</th>\n",
       "      <th>agency_name</th>\n",
       "      <th>agency_acronym</th>\n",
       "      <th>type</th>\n",
       "      <th>updated_date</th>\n",
       "      <th>file_name</th>\n",
       "      <th>url</th>\n",
       "    </tr>\n",
       "  </thead>\n",
       "  <tbody>\n",
       "    <tr>\n",
       "      <th>0</th>\n",
       "      <td>2024</td>\n",
       "      <td>Department of Justice</td>\n",
       "      <td>DOJ</td>\n",
       "      <td>contracts</td>\n",
       "      <td>2025-02-06</td>\n",
       "      <td>FY2024_015_Contracts_Full_20250206.zip</td>\n",
       "      <td>https://files.usaspending.gov/award_data_archi...</td>\n",
       "    </tr>\n",
       "    <tr>\n",
       "      <th>1</th>\n",
       "      <td>2025</td>\n",
       "      <td>Department of Justice</td>\n",
       "      <td>DOJ</td>\n",
       "      <td>contracts</td>\n",
       "      <td>2025-02-06</td>\n",
       "      <td>FY2025_015_Contracts_Full_20250206.zip</td>\n",
       "      <td>https://files.usaspending.gov/award_data_archi...</td>\n",
       "    </tr>\n",
       "  </tbody>\n",
       "</table>\n",
       "</div>"
      ],
      "text/plain": [
       "  fiscal_year            agency_name agency_acronym       type updated_date  \\\n",
       "0        2024  Department of Justice            DOJ  contracts   2025-02-06   \n",
       "1        2025  Department of Justice            DOJ  contracts   2025-02-06   \n",
       "\n",
       "                                file_name  \\\n",
       "0  FY2024_015_Contracts_Full_20250206.zip   \n",
       "1  FY2025_015_Contracts_Full_20250206.zip   \n",
       "\n",
       "                                                 url  \n",
       "0  https://files.usaspending.gov/award_data_archi...  \n",
       "1  https://files.usaspending.gov/award_data_archi...  "
      ]
     },
     "execution_count": 2,
     "metadata": {},
     "output_type": "execute_result"
    }
   ],
   "source": [
    "# define a list of fiscal years\n",
    "fys = [2024, 2025]\n",
    "# initiate an empty list to store the data\n",
    "data = []\n",
    "\n",
    "# for each fiscal year, download the list of monthly files based on the request below\n",
    "for fy in fys:\n",
    "    url = \"https://api.usaspending.gov/api/v2/bulk_download/list_monthly_files\"\n",
    "    headers = {\n",
    "        \"Content-Type\": \"application/json\",\n",
    "        \"Accept\": \"application/json\"\n",
    "    }\n",
    "    payload = {\n",
    "        \"agency\": \"17\",\n",
    "        \"fiscal_year\": str(fy),\n",
    "        \"type\": \"contracts\"\n",
    "    }\n",
    "    response = requests.post(url, headers=headers, json=payload)\n",
    "    # add the first object in the \"monthly_files\" array to the data list\n",
    "    monthly_files = response.json()\n",
    "    if \"monthly_files\" in monthly_files and len(monthly_files[\"monthly_files\"]) > 0:\n",
    "        data.append(monthly_files[\"monthly_files\"][0])\n",
    "\n",
    "    \n",
    "# load the data list as a pandas dataframe\n",
    "monthly_files_df = pd.DataFrame(data)\n",
    "monthly_files_df.head()"
   ]
  },
  {
   "cell_type": "code",
   "execution_count": 3,
   "metadata": {},
   "outputs": [],
   "source": [
    "# for each url in the \"url\" column, download the zip file and save it to the \"data\" folder\n",
    "for index, row in monthly_files_df.iterrows():\n",
    "    url = row[\"url\"]\n",
    "    filename = url.split(\"/\")[-1]\n",
    "    r = requests.get(url, allow_redirects=True)\n",
    "    # save the zip file to the \"data\" folder\n",
    "    # if the \"data\" folder does not exist, create it\n",
    "    try:\n",
    "        os.mkdir(\"data\")\n",
    "    except FileExistsError:\n",
    "        pass\n",
    "\n",
    "    with open(f\"data/{filename}\", \"wb\") as f:\n",
    "        f.write(r.content)"
   ]
  },
  {
   "cell_type": "code",
   "execution_count": 4,
   "metadata": {},
   "outputs": [],
   "source": [
    "# extract the zip files in the \"data\" folder\n",
    "for index, row in monthly_files_df.iterrows():\n",
    "    filename = row[\"url\"].split(\"/\")[-1]\n",
    "    with zipfile.ZipFile(f\"data/{filename}\", \"r\") as zip_ref:\n",
    "        zip_ref.extractall(\"data\")"
   ]
  },
  {
   "cell_type": "markdown",
   "metadata": {},
   "source": [
    "# Data Processing and Analysis Workflow\n",
    "\n",
    "## Data Acquisition and Processing\n",
    "- **API Data Collection**: Data is collected via the USASpending API for Department of Justice (agency 17) for fiscal years 2024 and 2025.\n",
    "- **Downloaded Files**: ZIP files containing contract data are automatically downloaded from URLs returned by the API.\n",
    "- **Extracted Data**: The ZIP files are extracted to a \"data\" folder for processing.\n",
    "- **Combined Dataset (df)**: All CSV files are read and concatenated into a single dataframe containing all contract records across both fiscal years.\n",
    "\n",
    "## Processed Data\n",
    "- **df_narrow**: Selected subset of 10 critical columns from the combined dataset. Columns include:\n",
    "    - award_id_piid: Unique contract identifier\n",
    "    - action_date_fiscal_year: Fiscal year of the contract action\n",
    "    - recipient_uei: Unique Entity Identifier for contractors\n",
    "    - recipient_name: Name of contract recipient\n",
    "    - recipient_parent_uei: Parent organization UEI\n",
    "    - recipient_parent_name: Name of parent organization\n",
    "    - product_or_service_code_description: Description of product/service\n",
    "    - product_or_service_code: Code for product/service category\n",
    "    - last_modified_date: Date of last contract modification\n",
    "    - potential_total_value_of_award: Maximum potential value of contract\n",
    "\n",
    "## Analysis Views\n",
    "- **df_grouped_award_id_max_last_modified**: Summarizes contracts by award ID and fiscal year, showing potential total value, latest modification date, and count of modifications per contract.\n",
    "\n",
    "- **df_grouped_recipient_uei_max_last_modified**: Analyzes which vendors received the most contract dollars, grouped by recipient UEI, name, and fiscal year.\n",
    "\n",
    "- **df_grouped_recipient_parent_uei_max_last_modified**: Aggregates contracts by parent organizations to understand overall organizational contract awards.\n",
    "\n",
    "- **df_grouped_product_or_service_code_max_last_modified**: Identifies which types of products and services received the most funding, categorized by product or service codes.\n",
    "\n",
    "All views are exported to a multi-sheet Excel file named \"USA_Spending_Summary_Analysis.xlsx\" for further analysis and sharing.\n"
   ]
  },
  {
   "cell_type": "code",
   "execution_count": 5,
   "metadata": {},
   "outputs": [
    {
     "name": "stderr",
     "output_type": "stream",
     "text": [
      "C:\\Users\\TonyMcGovern\\AppData\\Local\\Temp\\ipykernel_9908\\3729801057.py:9: DtypeWarning: Columns (36,47,68,71,72,81,117,118,135,136,165,171,172,179,180) have mixed types. Specify dtype option on import or set low_memory=False.\n",
      "  df = pd.read_csv(f\"data/{file}\")\n",
      "C:\\Users\\TonyMcGovern\\AppData\\Local\\Temp\\ipykernel_9908\\3729801057.py:9: DtypeWarning: Columns (36,47,71,72,81,135,136,165) have mixed types. Specify dtype option on import or set low_memory=False.\n",
      "  df = pd.read_csv(f\"data/{file}\")\n"
     ]
    },
    {
     "data": {
      "application/vnd.microsoft.datawrangler.viewer.v0+json": {
       "columns": [
        {
         "name": "index",
         "rawType": "int64",
         "type": "integer"
        },
        {
         "name": "contract_transaction_unique_key",
         "rawType": "object",
         "type": "string"
        },
        {
         "name": "contract_award_unique_key",
         "rawType": "object",
         "type": "string"
        },
        {
         "name": "award_id_piid",
         "rawType": "object",
         "type": "string"
        },
        {
         "name": "modification_number",
         "rawType": "object",
         "type": "string"
        },
        {
         "name": "transaction_number",
         "rawType": "float64",
         "type": "float"
        },
        {
         "name": "parent_award_agency_id",
         "rawType": "float64",
         "type": "float"
        },
        {
         "name": "parent_award_agency_name",
         "rawType": "object",
         "type": "unknown"
        },
        {
         "name": "parent_award_id_piid",
         "rawType": "object",
         "type": "unknown"
        },
        {
         "name": "parent_award_modification_number",
         "rawType": "object",
         "type": "unknown"
        },
        {
         "name": "federal_action_obligation",
         "rawType": "float64",
         "type": "float"
        },
        {
         "name": "total_dollars_obligated",
         "rawType": "float64",
         "type": "float"
        },
        {
         "name": "total_outlayed_amount_for_overall_award",
         "rawType": "float64",
         "type": "float"
        },
        {
         "name": "base_and_exercised_options_value",
         "rawType": "float64",
         "type": "float"
        },
        {
         "name": "current_total_value_of_award",
         "rawType": "float64",
         "type": "float"
        },
        {
         "name": "base_and_all_options_value",
         "rawType": "float64",
         "type": "float"
        },
        {
         "name": "potential_total_value_of_award",
         "rawType": "float64",
         "type": "float"
        },
        {
         "name": "disaster_emergency_fund_codes_for_overall_award",
         "rawType": "object",
         "type": "string"
        },
        {
         "name": "outlayed_amount_from_COVID-19_supplementals_for_overall_award",
         "rawType": "float64",
         "type": "float"
        },
        {
         "name": "obligated_amount_from_COVID-19_supplementals_for_overall_award",
         "rawType": "float64",
         "type": "float"
        },
        {
         "name": "outlayed_amount_from_IIJA_supplemental_for_overall_award",
         "rawType": "float64",
         "type": "float"
        },
        {
         "name": "obligated_amount_from_IIJA_supplemental_for_overall_award",
         "rawType": "float64",
         "type": "float"
        },
        {
         "name": "action_date",
         "rawType": "object",
         "type": "string"
        },
        {
         "name": "action_date_fiscal_year",
         "rawType": "int64",
         "type": "integer"
        },
        {
         "name": "period_of_performance_start_date",
         "rawType": "object",
         "type": "string"
        },
        {
         "name": "period_of_performance_current_end_date",
         "rawType": "object",
         "type": "string"
        },
        {
         "name": "period_of_performance_potential_end_date",
         "rawType": "object",
         "type": "string"
        },
        {
         "name": "ordering_period_end_date",
         "rawType": "object",
         "type": "unknown"
        },
        {
         "name": "solicitation_date",
         "rawType": "object",
         "type": "unknown"
        },
        {
         "name": "awarding_agency_code",
         "rawType": "int64",
         "type": "integer"
        },
        {
         "name": "awarding_agency_name",
         "rawType": "object",
         "type": "string"
        },
        {
         "name": "awarding_sub_agency_code",
         "rawType": "int64",
         "type": "integer"
        },
        {
         "name": "awarding_sub_agency_name",
         "rawType": "object",
         "type": "string"
        },
        {
         "name": "awarding_office_code",
         "rawType": "object",
         "type": "string"
        },
        {
         "name": "awarding_office_name",
         "rawType": "object",
         "type": "string"
        },
        {
         "name": "funding_agency_code",
         "rawType": "int64",
         "type": "integer"
        },
        {
         "name": "funding_agency_name",
         "rawType": "object",
         "type": "string"
        },
        {
         "name": "funding_sub_agency_code",
         "rawType": "object",
         "type": "string"
        },
        {
         "name": "funding_sub_agency_name",
         "rawType": "object",
         "type": "string"
        },
        {
         "name": "funding_office_code",
         "rawType": "object",
         "type": "string"
        },
        {
         "name": "funding_office_name",
         "rawType": "object",
         "type": "string"
        },
        {
         "name": "treasury_accounts_funding_this_award",
         "rawType": "object",
         "type": "string"
        },
        {
         "name": "federal_accounts_funding_this_award",
         "rawType": "object",
         "type": "string"
        },
        {
         "name": "object_classes_funding_this_award",
         "rawType": "object",
         "type": "string"
        },
        {
         "name": "program_activities_funding_this_award",
         "rawType": "object",
         "type": "string"
        },
        {
         "name": "foreign_funding",
         "rawType": "object",
         "type": "string"
        },
        {
         "name": "foreign_funding_description",
         "rawType": "object",
         "type": "string"
        },
        {
         "name": "sam_exception",
         "rawType": "float64",
         "type": "float"
        },
        {
         "name": "sam_exception_description",
         "rawType": "object",
         "type": "unknown"
        },
        {
         "name": "recipient_uei",
         "rawType": "object",
         "type": "string"
        },
        {
         "name": "recipient_duns",
         "rawType": "float64",
         "type": "float"
        },
        {
         "name": "recipient_name",
         "rawType": "object",
         "type": "string"
        },
        {
         "name": "recipient_name_raw",
         "rawType": "object",
         "type": "string"
        },
        {
         "name": "recipient_doing_business_as_name",
         "rawType": "object",
         "type": "unknown"
        },
        {
         "name": "cage_code",
         "rawType": "object",
         "type": "string"
        },
        {
         "name": "recipient_parent_uei",
         "rawType": "object",
         "type": "string"
        },
        {
         "name": "recipient_parent_duns",
         "rawType": "float64",
         "type": "float"
        },
        {
         "name": "recipient_parent_name",
         "rawType": "object",
         "type": "string"
        },
        {
         "name": "recipient_parent_name_raw",
         "rawType": "object",
         "type": "string"
        },
        {
         "name": "recipient_country_code",
         "rawType": "object",
         "type": "string"
        },
        {
         "name": "recipient_country_name",
         "rawType": "object",
         "type": "string"
        },
        {
         "name": "recipient_address_line_1",
         "rawType": "object",
         "type": "string"
        },
        {
         "name": "recipient_address_line_2",
         "rawType": "object",
         "type": "unknown"
        },
        {
         "name": "recipient_city_name",
         "rawType": "object",
         "type": "string"
        },
        {
         "name": "prime_award_transaction_recipient_county_fips_code",
         "rawType": "float64",
         "type": "float"
        },
        {
         "name": "recipient_county_name",
         "rawType": "object",
         "type": "string"
        },
        {
         "name": "prime_award_transaction_recipient_state_fips_code",
         "rawType": "float64",
         "type": "float"
        },
        {
         "name": "recipient_state_code",
         "rawType": "object",
         "type": "string"
        },
        {
         "name": "recipient_state_name",
         "rawType": "object",
         "type": "string"
        },
        {
         "name": "recipient_zip_4_code",
         "rawType": "object",
         "type": "string"
        },
        {
         "name": "prime_award_transaction_recipient_cd_original",
         "rawType": "object",
         "type": "string"
        },
        {
         "name": "prime_award_transaction_recipient_cd_current",
         "rawType": "object",
         "type": "string"
        },
        {
         "name": "recipient_phone_number",
         "rawType": "object",
         "type": "string"
        },
        {
         "name": "recipient_fax_number",
         "rawType": "object",
         "type": "unknown"
        },
        {
         "name": "primary_place_of_performance_country_code",
         "rawType": "object",
         "type": "string"
        },
        {
         "name": "primary_place_of_performance_country_name",
         "rawType": "object",
         "type": "string"
        },
        {
         "name": "primary_place_of_performance_city_name",
         "rawType": "object",
         "type": "string"
        },
        {
         "name": "prime_award_transaction_place_of_performance_county_fips_code",
         "rawType": "float64",
         "type": "float"
        },
        {
         "name": "primary_place_of_performance_county_name",
         "rawType": "object",
         "type": "string"
        },
        {
         "name": "prime_award_transaction_place_of_performance_state_fips_code",
         "rawType": "float64",
         "type": "float"
        },
        {
         "name": "primary_place_of_performance_state_code",
         "rawType": "object",
         "type": "string"
        },
        {
         "name": "primary_place_of_performance_state_name",
         "rawType": "object",
         "type": "string"
        },
        {
         "name": "primary_place_of_performance_zip_4",
         "rawType": "object",
         "type": "string"
        },
        {
         "name": "prime_award_transaction_place_of_performance_cd_original",
         "rawType": "object",
         "type": "string"
        },
        {
         "name": "prime_award_transaction_place_of_performance_cd_current",
         "rawType": "object",
         "type": "string"
        },
        {
         "name": "award_or_idv_flag",
         "rawType": "object",
         "type": "string"
        },
        {
         "name": "award_type_code",
         "rawType": "object",
         "type": "string"
        },
        {
         "name": "award_type",
         "rawType": "object",
         "type": "string"
        },
        {
         "name": "idv_type_code",
         "rawType": "object",
         "type": "unknown"
        },
        {
         "name": "idv_type",
         "rawType": "object",
         "type": "unknown"
        },
        {
         "name": "multiple_or_single_award_idv_code",
         "rawType": "object",
         "type": "unknown"
        },
        {
         "name": "multiple_or_single_award_idv",
         "rawType": "object",
         "type": "unknown"
        },
        {
         "name": "type_of_idc_code",
         "rawType": "object",
         "type": "unknown"
        },
        {
         "name": "type_of_idc",
         "rawType": "object",
         "type": "unknown"
        },
        {
         "name": "type_of_contract_pricing_code",
         "rawType": "object",
         "type": "string"
        },
        {
         "name": "type_of_contract_pricing",
         "rawType": "object",
         "type": "string"
        },
        {
         "name": "transaction_description",
         "rawType": "object",
         "type": "string"
        },
        {
         "name": "prime_award_base_transaction_description",
         "rawType": "object",
         "type": "string"
        },
        {
         "name": "action_type_code",
         "rawType": "object",
         "type": "unknown"
        },
        {
         "name": "action_type",
         "rawType": "object",
         "type": "unknown"
        },
        {
         "name": "solicitation_identifier",
         "rawType": "object",
         "type": "unknown"
        },
        {
         "name": "number_of_actions",
         "rawType": "float64",
         "type": "float"
        },
        {
         "name": "inherently_governmental_functions",
         "rawType": "object",
         "type": "unknown"
        },
        {
         "name": "inherently_governmental_functions_description",
         "rawType": "object",
         "type": "unknown"
        },
        {
         "name": "product_or_service_code",
         "rawType": "object",
         "type": "string"
        },
        {
         "name": "product_or_service_code_description",
         "rawType": "object",
         "type": "string"
        },
        {
         "name": "contract_bundling_code",
         "rawType": "object",
         "type": "string"
        },
        {
         "name": "contract_bundling",
         "rawType": "object",
         "type": "string"
        },
        {
         "name": "dod_claimant_program_code",
         "rawType": "float64",
         "type": "float"
        },
        {
         "name": "dod_claimant_program_description",
         "rawType": "float64",
         "type": "float"
        },
        {
         "name": "naics_code",
         "rawType": "float64",
         "type": "float"
        },
        {
         "name": "naics_description",
         "rawType": "object",
         "type": "string"
        },
        {
         "name": "recovered_materials_sustainability_code",
         "rawType": "object",
         "type": "string"
        },
        {
         "name": "recovered_materials_sustainability",
         "rawType": "object",
         "type": "string"
        },
        {
         "name": "domestic_or_foreign_entity_code",
         "rawType": "object",
         "type": "string"
        },
        {
         "name": "domestic_or_foreign_entity",
         "rawType": "object",
         "type": "string"
        },
        {
         "name": "dod_acquisition_program_code",
         "rawType": "float64",
         "type": "float"
        },
        {
         "name": "dod_acquisition_program_description",
         "rawType": "float64",
         "type": "float"
        },
        {
         "name": "information_technology_commercial_item_category_code",
         "rawType": "object",
         "type": "unknown"
        },
        {
         "name": "information_technology_commercial_item_category",
         "rawType": "object",
         "type": "unknown"
        },
        {
         "name": "epa_designated_product_code",
         "rawType": "object",
         "type": "string"
        },
        {
         "name": "epa_designated_product",
         "rawType": "object",
         "type": "string"
        },
        {
         "name": "country_of_product_or_service_origin_code",
         "rawType": "object",
         "type": "string"
        },
        {
         "name": "country_of_product_or_service_origin",
         "rawType": "object",
         "type": "string"
        },
        {
         "name": "place_of_manufacture_code",
         "rawType": "object",
         "type": "string"
        },
        {
         "name": "place_of_manufacture",
         "rawType": "object",
         "type": "string"
        },
        {
         "name": "subcontracting_plan_code",
         "rawType": "object",
         "type": "string"
        },
        {
         "name": "subcontracting_plan",
         "rawType": "object",
         "type": "string"
        },
        {
         "name": "extent_competed_code",
         "rawType": "object",
         "type": "string"
        },
        {
         "name": "extent_competed",
         "rawType": "object",
         "type": "string"
        },
        {
         "name": "solicitation_procedures_code",
         "rawType": "object",
         "type": "string"
        },
        {
         "name": "solicitation_procedures",
         "rawType": "object",
         "type": "string"
        },
        {
         "name": "type_of_set_aside_code",
         "rawType": "object",
         "type": "unknown"
        },
        {
         "name": "type_of_set_aside",
         "rawType": "object",
         "type": "unknown"
        },
        {
         "name": "evaluated_preference_code",
         "rawType": "object",
         "type": "string"
        },
        {
         "name": "evaluated_preference",
         "rawType": "object",
         "type": "string"
        },
        {
         "name": "research_code",
         "rawType": "object",
         "type": "unknown"
        },
        {
         "name": "research",
         "rawType": "object",
         "type": "unknown"
        },
        {
         "name": "fair_opportunity_limited_sources_code",
         "rawType": "object",
         "type": "unknown"
        },
        {
         "name": "fair_opportunity_limited_sources",
         "rawType": "object",
         "type": "unknown"
        },
        {
         "name": "other_than_full_and_open_competition_code",
         "rawType": "object",
         "type": "unknown"
        },
        {
         "name": "other_than_full_and_open_competition",
         "rawType": "object",
         "type": "unknown"
        },
        {
         "name": "number_of_offers_received",
         "rawType": "float64",
         "type": "float"
        },
        {
         "name": "commercial_item_acquisition_procedures_code",
         "rawType": "object",
         "type": "string"
        },
        {
         "name": "commercial_item_acquisition_procedures",
         "rawType": "object",
         "type": "string"
        },
        {
         "name": "small_business_competitiveness_demonstration_program",
         "rawType": "object",
         "type": "string"
        },
        {
         "name": "simplified_procedures_for_certain_commercial_items_code",
         "rawType": "object",
         "type": "string"
        },
        {
         "name": "simplified_procedures_for_certain_commercial_items",
         "rawType": "object",
         "type": "string"
        },
        {
         "name": "a76_fair_act_action_code",
         "rawType": "object",
         "type": "unknown"
        },
        {
         "name": "a76_fair_act_action",
         "rawType": "object",
         "type": "unknown"
        },
        {
         "name": "fed_biz_opps_code",
         "rawType": "object",
         "type": "unknown"
        },
        {
         "name": "fed_biz_opps",
         "rawType": "object",
         "type": "unknown"
        },
        {
         "name": "local_area_set_aside_code",
         "rawType": "object",
         "type": "string"
        },
        {
         "name": "local_area_set_aside",
         "rawType": "object",
         "type": "string"
        },
        {
         "name": "price_evaluation_adjustment_preference_percent_difference",
         "rawType": "float64",
         "type": "float"
        },
        {
         "name": "clinger_cohen_act_planning_code",
         "rawType": "object",
         "type": "string"
        },
        {
         "name": "clinger_cohen_act_planning",
         "rawType": "object",
         "type": "string"
        },
        {
         "name": "materials_supplies_articles_equipment_code",
         "rawType": "object",
         "type": "string"
        },
        {
         "name": "materials_supplies_articles_equipment",
         "rawType": "object",
         "type": "string"
        },
        {
         "name": "labor_standards_code",
         "rawType": "object",
         "type": "string"
        },
        {
         "name": "labor_standards",
         "rawType": "object",
         "type": "string"
        },
        {
         "name": "construction_wage_rate_requirements_code",
         "rawType": "object",
         "type": "string"
        },
        {
         "name": "construction_wage_rate_requirements",
         "rawType": "object",
         "type": "string"
        },
        {
         "name": "interagency_contracting_authority_code",
         "rawType": "object",
         "type": "string"
        },
        {
         "name": "interagency_contracting_authority",
         "rawType": "object",
         "type": "string"
        },
        {
         "name": "other_statutory_authority",
         "rawType": "float64",
         "type": "float"
        },
        {
         "name": "program_acronym",
         "rawType": "object",
         "type": "unknown"
        },
        {
         "name": "parent_award_type_code",
         "rawType": "object",
         "type": "unknown"
        },
        {
         "name": "parent_award_type",
         "rawType": "object",
         "type": "unknown"
        },
        {
         "name": "parent_award_single_or_multiple_code",
         "rawType": "object",
         "type": "unknown"
        },
        {
         "name": "parent_award_single_or_multiple",
         "rawType": "object",
         "type": "unknown"
        },
        {
         "name": "major_program",
         "rawType": "object",
         "type": "unknown"
        },
        {
         "name": "national_interest_action_code",
         "rawType": "object",
         "type": "unknown"
        },
        {
         "name": "national_interest_action",
         "rawType": "object",
         "type": "unknown"
        },
        {
         "name": "cost_or_pricing_data_code",
         "rawType": "object",
         "type": "unknown"
        },
        {
         "name": "cost_or_pricing_data",
         "rawType": "object",
         "type": "unknown"
        },
        {
         "name": "cost_accounting_standards_clause_code",
         "rawType": "object",
         "type": "unknown"
        },
        {
         "name": "cost_accounting_standards_clause",
         "rawType": "object",
         "type": "unknown"
        },
        {
         "name": "government_furnished_property_code",
         "rawType": "object",
         "type": "string"
        },
        {
         "name": "government_furnished_property",
         "rawType": "object",
         "type": "string"
        },
        {
         "name": "sea_transportation_code",
         "rawType": "object",
         "type": "unknown"
        },
        {
         "name": "sea_transportation",
         "rawType": "object",
         "type": "unknown"
        },
        {
         "name": "undefinitized_action_code",
         "rawType": "object",
         "type": "string"
        },
        {
         "name": "undefinitized_action",
         "rawType": "object",
         "type": "string"
        },
        {
         "name": "consolidated_contract_code",
         "rawType": "object",
         "type": "string"
        },
        {
         "name": "consolidated_contract",
         "rawType": "object",
         "type": "string"
        },
        {
         "name": "performance_based_service_acquisition_code",
         "rawType": "object",
         "type": "string"
        },
        {
         "name": "performance_based_service_acquisition",
         "rawType": "object",
         "type": "string"
        },
        {
         "name": "multi_year_contract_code",
         "rawType": "object",
         "type": "unknown"
        },
        {
         "name": "multi_year_contract",
         "rawType": "object",
         "type": "unknown"
        },
        {
         "name": "contract_financing_code",
         "rawType": "object",
         "type": "unknown"
        },
        {
         "name": "contract_financing",
         "rawType": "object",
         "type": "unknown"
        },
        {
         "name": "purchase_card_as_payment_method_code",
         "rawType": "object",
         "type": "string"
        },
        {
         "name": "purchase_card_as_payment_method",
         "rawType": "object",
         "type": "string"
        },
        {
         "name": "contingency_humanitarian_or_peacekeeping_operation_code",
         "rawType": "object",
         "type": "string"
        },
        {
         "name": "contingency_humanitarian_or_peacekeeping_operation",
         "rawType": "object",
         "type": "string"
        },
        {
         "name": "alaskan_native_corporation_owned_firm",
         "rawType": "object",
         "type": "string"
        },
        {
         "name": "american_indian_owned_business",
         "rawType": "object",
         "type": "string"
        },
        {
         "name": "indian_tribe_federally_recognized",
         "rawType": "object",
         "type": "string"
        },
        {
         "name": "native_hawaiian_organization_owned_firm",
         "rawType": "object",
         "type": "string"
        },
        {
         "name": "tribally_owned_firm",
         "rawType": "object",
         "type": "string"
        },
        {
         "name": "veteran_owned_business",
         "rawType": "object",
         "type": "string"
        },
        {
         "name": "service_disabled_veteran_owned_business",
         "rawType": "object",
         "type": "string"
        },
        {
         "name": "woman_owned_business",
         "rawType": "object",
         "type": "string"
        },
        {
         "name": "women_owned_small_business",
         "rawType": "object",
         "type": "string"
        },
        {
         "name": "economically_disadvantaged_women_owned_small_business",
         "rawType": "object",
         "type": "string"
        },
        {
         "name": "joint_venture_women_owned_small_business",
         "rawType": "object",
         "type": "string"
        },
        {
         "name": "joint_venture_economic_disadvantaged_women_owned_small_bus",
         "rawType": "object",
         "type": "string"
        },
        {
         "name": "minority_owned_business",
         "rawType": "object",
         "type": "string"
        },
        {
         "name": "subcontinent_asian_asian_indian_american_owned_business",
         "rawType": "object",
         "type": "string"
        },
        {
         "name": "asian_pacific_american_owned_business",
         "rawType": "object",
         "type": "string"
        },
        {
         "name": "black_american_owned_business",
         "rawType": "object",
         "type": "string"
        },
        {
         "name": "hispanic_american_owned_business",
         "rawType": "object",
         "type": "string"
        },
        {
         "name": "native_american_owned_business",
         "rawType": "object",
         "type": "string"
        },
        {
         "name": "other_minority_owned_business",
         "rawType": "object",
         "type": "string"
        },
        {
         "name": "contracting_officers_determination_of_business_size",
         "rawType": "object",
         "type": "string"
        },
        {
         "name": "contracting_officers_determination_of_business_size_code",
         "rawType": "object",
         "type": "string"
        },
        {
         "name": "emerging_small_business",
         "rawType": "object",
         "type": "string"
        },
        {
         "name": "community_developed_corporation_owned_firm",
         "rawType": "object",
         "type": "string"
        },
        {
         "name": "labor_surplus_area_firm",
         "rawType": "object",
         "type": "string"
        },
        {
         "name": "us_federal_government",
         "rawType": "object",
         "type": "string"
        },
        {
         "name": "federally_funded_research_and_development_corp",
         "rawType": "object",
         "type": "string"
        },
        {
         "name": "federal_agency",
         "rawType": "object",
         "type": "string"
        },
        {
         "name": "us_state_government",
         "rawType": "object",
         "type": "string"
        },
        {
         "name": "us_local_government",
         "rawType": "object",
         "type": "string"
        },
        {
         "name": "city_local_government",
         "rawType": "object",
         "type": "string"
        },
        {
         "name": "county_local_government",
         "rawType": "object",
         "type": "string"
        },
        {
         "name": "inter_municipal_local_government",
         "rawType": "object",
         "type": "string"
        },
        {
         "name": "local_government_owned",
         "rawType": "object",
         "type": "string"
        },
        {
         "name": "municipality_local_government",
         "rawType": "object",
         "type": "string"
        },
        {
         "name": "school_district_local_government",
         "rawType": "object",
         "type": "string"
        },
        {
         "name": "township_local_government",
         "rawType": "object",
         "type": "string"
        },
        {
         "name": "us_tribal_government",
         "rawType": "object",
         "type": "string"
        },
        {
         "name": "foreign_government",
         "rawType": "object",
         "type": "string"
        },
        {
         "name": "organizational_type",
         "rawType": "object",
         "type": "string"
        },
        {
         "name": "corporate_entity_not_tax_exempt",
         "rawType": "object",
         "type": "string"
        },
        {
         "name": "corporate_entity_tax_exempt",
         "rawType": "object",
         "type": "string"
        },
        {
         "name": "partnership_or_limited_liability_partnership",
         "rawType": "object",
         "type": "string"
        },
        {
         "name": "sole_proprietorship",
         "rawType": "object",
         "type": "string"
        },
        {
         "name": "small_agricultural_cooperative",
         "rawType": "object",
         "type": "string"
        },
        {
         "name": "international_organization",
         "rawType": "object",
         "type": "string"
        },
        {
         "name": "us_government_entity",
         "rawType": "object",
         "type": "string"
        },
        {
         "name": "community_development_corporation",
         "rawType": "object",
         "type": "string"
        },
        {
         "name": "domestic_shelter",
         "rawType": "object",
         "type": "string"
        },
        {
         "name": "educational_institution",
         "rawType": "object",
         "type": "string"
        },
        {
         "name": "foundation",
         "rawType": "object",
         "type": "string"
        },
        {
         "name": "hospital_flag",
         "rawType": "object",
         "type": "string"
        },
        {
         "name": "manufacturer_of_goods",
         "rawType": "object",
         "type": "string"
        },
        {
         "name": "veterinary_hospital",
         "rawType": "object",
         "type": "string"
        },
        {
         "name": "hispanic_servicing_institution",
         "rawType": "object",
         "type": "string"
        },
        {
         "name": "receives_contracts",
         "rawType": "object",
         "type": "string"
        },
        {
         "name": "receives_financial_assistance",
         "rawType": "object",
         "type": "string"
        },
        {
         "name": "receives_contracts_and_financial_assistance",
         "rawType": "object",
         "type": "string"
        },
        {
         "name": "airport_authority",
         "rawType": "object",
         "type": "string"
        },
        {
         "name": "council_of_governments",
         "rawType": "object",
         "type": "string"
        },
        {
         "name": "housing_authorities_public_tribal",
         "rawType": "object",
         "type": "string"
        },
        {
         "name": "interstate_entity",
         "rawType": "object",
         "type": "string"
        },
        {
         "name": "planning_commission",
         "rawType": "object",
         "type": "string"
        },
        {
         "name": "port_authority",
         "rawType": "object",
         "type": "string"
        },
        {
         "name": "transit_authority",
         "rawType": "object",
         "type": "string"
        },
        {
         "name": "subchapter_scorporation",
         "rawType": "object",
         "type": "string"
        },
        {
         "name": "limited_liability_corporation",
         "rawType": "object",
         "type": "string"
        },
        {
         "name": "foreign_owned",
         "rawType": "object",
         "type": "string"
        },
        {
         "name": "for_profit_organization",
         "rawType": "object",
         "type": "string"
        },
        {
         "name": "nonprofit_organization",
         "rawType": "object",
         "type": "string"
        },
        {
         "name": "other_not_for_profit_organization",
         "rawType": "object",
         "type": "string"
        },
        {
         "name": "the_ability_one_program",
         "rawType": "object",
         "type": "string"
        },
        {
         "name": "private_university_or_college",
         "rawType": "object",
         "type": "string"
        },
        {
         "name": "state_controlled_institution_of_higher_learning",
         "rawType": "object",
         "type": "string"
        },
        {
         "name": "1862_land_grant_college",
         "rawType": "object",
         "type": "string"
        },
        {
         "name": "1890_land_grant_college",
         "rawType": "object",
         "type": "string"
        },
        {
         "name": "1994_land_grant_college",
         "rawType": "object",
         "type": "string"
        },
        {
         "name": "minority_institution",
         "rawType": "object",
         "type": "string"
        },
        {
         "name": "historically_black_college",
         "rawType": "object",
         "type": "string"
        },
        {
         "name": "tribal_college",
         "rawType": "object",
         "type": "string"
        },
        {
         "name": "alaskan_native_servicing_institution",
         "rawType": "object",
         "type": "string"
        },
        {
         "name": "native_hawaiian_servicing_institution",
         "rawType": "object",
         "type": "string"
        },
        {
         "name": "school_of_forestry",
         "rawType": "object",
         "type": "string"
        },
        {
         "name": "veterinary_college",
         "rawType": "object",
         "type": "string"
        },
        {
         "name": "dot_certified_disadvantage",
         "rawType": "object",
         "type": "string"
        },
        {
         "name": "self_certified_small_disadvantaged_business",
         "rawType": "object",
         "type": "string"
        },
        {
         "name": "small_disadvantaged_business",
         "rawType": "object",
         "type": "string"
        },
        {
         "name": "c8a_program_participant",
         "rawType": "object",
         "type": "string"
        },
        {
         "name": "historically_underutilized_business_zone_hubzone_firm",
         "rawType": "object",
         "type": "string"
        },
        {
         "name": "sba_certified_8a_joint_venture",
         "rawType": "object",
         "type": "string"
        },
        {
         "name": "highly_compensated_officer_1_name",
         "rawType": "object",
         "type": "unknown"
        },
        {
         "name": "highly_compensated_officer_1_amount",
         "rawType": "float64",
         "type": "float"
        },
        {
         "name": "highly_compensated_officer_2_name",
         "rawType": "object",
         "type": "unknown"
        },
        {
         "name": "highly_compensated_officer_2_amount",
         "rawType": "float64",
         "type": "float"
        },
        {
         "name": "highly_compensated_officer_3_name",
         "rawType": "object",
         "type": "unknown"
        },
        {
         "name": "highly_compensated_officer_3_amount",
         "rawType": "float64",
         "type": "float"
        },
        {
         "name": "highly_compensated_officer_4_name",
         "rawType": "object",
         "type": "unknown"
        },
        {
         "name": "highly_compensated_officer_4_amount",
         "rawType": "float64",
         "type": "float"
        },
        {
         "name": "highly_compensated_officer_5_name",
         "rawType": "object",
         "type": "unknown"
        },
        {
         "name": "highly_compensated_officer_5_amount",
         "rawType": "float64",
         "type": "float"
        },
        {
         "name": "usaspending_permalink",
         "rawType": "object",
         "type": "string"
        },
        {
         "name": "initial_report_date",
         "rawType": "object",
         "type": "string"
        },
        {
         "name": "last_modified_date",
         "rawType": "object",
         "type": "string"
        }
       ],
       "conversionMethod": "pd.DataFrame",
       "ref": "82968c49-a242-45cb-b4bc-cdc5fd900adc",
       "rows": [
        [
         "0",
         "1501_4732_15JTAX22F00000053_P00008_GS00F156GA_0",
         "CONT_AWD_15JTAX22F00000053_1501_GS00F156GA_4732",
         "15JTAX22F00000053",
         "P00008",
         "0.0",
         "4732.0",
         "FEDERAL ACQUISITION SERVICE",
         "GS00F156GA",
         "PA0019",
         "149841.82",
         "1428154.19",
         "1275762.52",
         "149841.82",
         "1501181.5",
         "149841.82",
         "2053598.62",
         "Q: Not Designated Nonemergency/Emergency/Disaster/Wildfire Suppression",
         null,
         null,
         null,
         null,
         "2024-09-30",
         "2024",
         "2022-09-20",
         "2025-09-19",
         "2025-09-19 00:00:00",
         null,
         "2022-08-22",
         "15",
         "Department of Justice",
         "1501",
         "Offices, Boards and Divisions",
         "15JTAX",
         "TAX DIVISION",
         "15",
         "Department of Justice",
         "1501",
         "Offices, Boards and Divisions",
         "15JTAX",
         "TAX DIVISION",
         "015-2022/2022-0128-000;015-2023/2023-0128-000;015-2024/2024-0128-000",
         "015-0128",
         "25.1: Advisory and assistance services;25.2: Other services from non-Federal sources",
         "0002: GENERAL TAX MATTERS",
         "X",
         "NOT APPLICABLE",
         null,
         null,
         "G746KJ7K4DC8",
         null,
         "SOL CONSULTING GROUP LLC",
         "SOL CONSULTING GROUP, LLC",
         null,
         "703N1",
         "G746KJ7K4DC8",
         null,
         "SOL CONSULTING GROUP LLC",
         "SOL CONSULTING GROUP LLC",
         "USA",
         "UNITED STATES",
         "131 ROLLINS AVE",
         null,
         "ROCKVILLE",
         "24031.0",
         "MONTGOMERY",
         "24.0",
         "MD",
         "MARYLAND",
         "208524039",
         "MD-08",
         "MD-08",
         "8134284946",
         null,
         "USA",
         "UNITED STATES",
         "ROCKVILLE",
         "24031.0",
         "MONTGOMERY",
         "24.0",
         "MD",
         "MARYLAND",
         "208524039",
         "MD-08",
         "MD-08",
         "AWARD",
         "C",
         "DELIVERY ORDER",
         null,
         null,
         null,
         null,
         null,
         null,
         "Z",
         "LABOR HOURS",
         "FINANCIAL MANAGEMENT SERVICES",
         "FINANCIAL MANAGEMENT SERVICES",
         "G",
         "EXERCISE AN OPTION",
         null,
         "1.0",
         "OT",
         "OTHER FUNCTIONS",
         "B547",
         "SPECIAL STUDIES/ANALYSIS- ACCOUNTING/FINANCIAL MANAGEMENT",
         "H",
         "NOT BUNDLED",
         null,
         null,
         "541611.0",
         "ADMINISTRATIVE MANAGEMENT AND GENERAL MANAGEMENT CONSULTING SERVICES",
         "C",
         "NO CLAUSES INCLUDED AND NO SUSTAINABILITY INCLUDED",
         "A",
         "U.S. OWNED BUSINESS",
         null,
         null,
         null,
         null,
         "E",
         "NOT REQUIRED",
         "USA",
         "UNITED STATES",
         "C",
         "NOT A MANUFACTURED END PRODUCT",
         "B",
         "PLAN NOT REQUIRED",
         "A",
         "FULL AND OPEN COMPETITION",
         "MAFO",
         "SUBJECT TO MULTIPLE AWARD FAIR OPPORTUNITY",
         null,
         null,
         "NONE",
         "NO PREFERENCE USED",
         null,
         null,
         "ONE",
         "ONLY ONE SOURCE - OTHER",
         null,
         null,
         "1.0",
         "A",
         "COMMERCIAL PRODUCTS/SERVICES",
         "f",
         "N",
         "NO",
         "N",
         "NO",
         "Y",
         "YES",
         "N",
         "NO",
         null,
         "N",
         "NO",
         "X",
         "NOT APPLICABLE",
         "Y",
         "YES",
         "X",
         "NOT APPLICABLE",
         "X",
         "NOT APPLICABLE",
         null,
         null,
         "C",
         "FSS",
         "M",
         "MULTIPLE AWARD",
         null,
         null,
         null,
         "N",
         "NO",
         null,
         null,
         "N",
         "TRANSACTION DOES NOT USE GFE/GFP",
         null,
         null,
         "X",
         "NO",
         "D",
         "NOT CONSOLIDATED",
         "N",
         "NO - SERVICE WHERE PBA IS NOT USED.",
         null,
         null,
         null,
         null,
         "N",
         "NO",
         "X",
         "NOT APPLICABLE",
         "f",
         "f",
         "f",
         "f",
         "f",
         "f",
         "f",
         "f",
         "f",
         "f",
         "f",
         "f",
         "f",
         "f",
         "f",
         "f",
         "t",
         "f",
         "f",
         "SMALL BUSINESS",
         "S",
         "f",
         "f",
         "f",
         "f",
         "f",
         "f",
         "f",
         "f",
         "f",
         "f",
         "f",
         "f",
         "f",
         "f",
         "f",
         "f",
         "f",
         "PARTNERSHIP",
         "f",
         "f",
         "t",
         "f",
         "f",
         "f",
         "f",
         "f",
         "f",
         "f",
         "f",
         "f",
         "f",
         "f",
         "f",
         "f",
         "f",
         "t",
         "f",
         "f",
         "f",
         "f",
         "f",
         "f",
         "f",
         "f",
         "t",
         "f",
         "t",
         "f",
         "f",
         "f",
         "f",
         "f",
         "f",
         "f",
         "f",
         "f",
         "f",
         "f",
         "f",
         "f",
         "f",
         "f",
         "f",
         "t",
         "f",
         "t",
         "f",
         "f",
         null,
         null,
         null,
         null,
         null,
         null,
         null,
         null,
         null,
         null,
         "https://www.usaspending.gov/award/CONT_AWD_15JTAX22F00000053_1501_GS00F156GA_4732/",
         "2024-09-26",
         "2024-09-30"
        ],
        [
         "1",
         "1501_1501_15JPSS23F00000433_P00002_15JPSS20G00000334_0",
         "CONT_AWD_15JPSS23F00000433_1501_15JPSS20G00000334_1501",
         "15JPSS23F00000433",
         "P00002",
         "0.0",
         "1501.0",
         "OFFICES, BOARDS AND DIVISIONS",
         "15JPSS20G00000334",
         "0",
         "-2561.54",
         "53974.76",
         "53974.76",
         "-2561.54",
         "53974.76",
         "-2561.54",
         "53974.76",
         "Q: Not Designated Nonemergency/Emergency/Disaster/Wildfire Suppression",
         null,
         null,
         null,
         null,
         "2024-09-30",
         "2024",
         "2023-05-26",
         "2024-05-24",
         "2024-05-24 00:00:00",
         null,
         "2023-05-15",
         "15",
         "Department of Justice",
         "1501",
         "Offices, Boards and Divisions",
         "15JPSS",
         "JMD-PROCUREMENT SERVICES STAFF",
         "15",
         "Department of Justice",
         "1501",
         "Offices, Boards and Divisions",
         "15JA99",
         "U.S. ATTORNEYS OFFICE - (PROG)",
         "015-2023/2023-0322-000;015-2024/2024-0322-000",
         "015-0322",
         "31.0: Equipment",
         "0000: UNKNOWN/OTHER",
         "X",
         "NOT APPLICABLE",
         null,
         null,
         "GK55J77VGN84",
         null,
         "CYNERGY PROFESSIONAL SYSTEMS LLC",
         "CYNERGY PROFESSIONAL SYSTEMS LLC",
         null,
         "5QEP7",
         "GK55J77VGN84",
         null,
         "CYNERGY PROFESSIONAL SYSTEMS LLC",
         "CYNERGY PROFESSIONAL SYSTEMS LLC",
         "USA",
         "UNITED STATES",
         "23187 LA CADENA, STE 102",
         null,
         "LAGUNA HILLS",
         "6059.0",
         "ORANGE",
         "6.0",
         "CA",
         "CALIFORNIA",
         "926531481",
         "CA-47",
         "CA-47",
         "9493400149",
         "9493545517.0",
         "USA",
         "UNITED STATES",
         "LAGUNA HILLS",
         "6059.0",
         "ORANGE",
         "6.0",
         "CA",
         "CALIFORNIA",
         "926531481",
         "CA-47",
         "CA-47",
         "AWARD",
         "C",
         "DELIVERY ORDER",
         null,
         null,
         null,
         null,
         null,
         null,
         "J",
         "FIRM FIXED PRICE",
         "PSS - DES MOINES, IA RELOCATION - MOD #P00002 REVISE SOW",
         "PSS - DES MOINES, IA RELOCATION",
         "B",
         "SUPPLEMENTAL AGREEMENT FOR WORK WITHIN SCOPE",
         null,
         "1.0",
         "OT",
         "OTHER FUNCTIONS",
         "J063",
         "MAINT/REPAIR/REBUILD OF EQUIPMENT- ALARM, SIGNAL, AND SECURITY DETECTION SYSTEMS",
         "H",
         "NOT BUNDLED",
         null,
         null,
         "541519.0",
         "OTHER COMPUTER RELATED SERVICES",
         "C",
         "NO CLAUSES INCLUDED AND NO SUSTAINABILITY INCLUDED",
         "A",
         "U.S. OWNED BUSINESS",
         null,
         null,
         null,
         null,
         "E",
         "NOT REQUIRED",
         "USA",
         "UNITED STATES",
         "C",
         "NOT A MANUFACTURED END PRODUCT",
         "B",
         "PLAN NOT REQUIRED",
         "F",
         "COMPETED UNDER SAP",
         "SP1",
         "SIMPLIFIED ACQUISITION",
         "NONE",
         "NO SET ASIDE USED.",
         "NONE",
         "NO PREFERENCE USED",
         null,
         null,
         null,
         null,
         null,
         null,
         "1.0",
         "A",
         "COMMERCIAL PRODUCTS/SERVICES",
         "f",
         "N",
         "NO",
         "N",
         "NO",
         null,
         null,
         "N",
         "NO",
         null,
         "N",
         "NO",
         "X",
         "NOT APPLICABLE",
         "Y",
         "YES",
         "X",
         "NOT APPLICABLE",
         "X",
         "NOT APPLICABLE",
         null,
         null,
         "D",
         "BOA",
         "S",
         "SINGLE AWARD",
         null,
         null,
         null,
         null,
         null,
         "X",
         "NOT APPLICABLE EXEMPT FROM CAS",
         "N",
         "TRANSACTION DOES NOT USE GFE/GFP",
         null,
         null,
         "X",
         "NO",
         "D",
         "NOT CONSOLIDATED",
         "Y",
         "YES - SERVICE WHERE PBA IS USED.",
         null,
         null,
         null,
         null,
         "N",
         "NO",
         "X",
         "NOT APPLICABLE",
         "f",
         "f",
         "f",
         "f",
         "f",
         "t",
         "t",
         "t",
         "t",
         "t",
         "f",
         "f",
         "t",
         "f",
         "f",
         "f",
         "t",
         "f",
         "f",
         "SMALL BUSINESS",
         "S",
         "f",
         "f",
         "f",
         "f",
         "f",
         "f",
         "f",
         "f",
         "f",
         "f",
         "f",
         "f",
         "f",
         "f",
         "f",
         "f",
         "f",
         "PARTNERSHIP",
         "f",
         "f",
         "t",
         "f",
         "f",
         "f",
         "f",
         "f",
         "f",
         "f",
         "f",
         "f",
         "f",
         "f",
         "f",
         "f",
         "f",
         "t",
         "f",
         "f",
         "f",
         "f",
         "f",
         "f",
         "f",
         "f",
         "t",
         "f",
         "t",
         "f",
         "f",
         "f",
         "f",
         "f",
         "f",
         "f",
         "f",
         "f",
         "f",
         "f",
         "f",
         "f",
         "f",
         "f",
         "t",
         "t",
         "f",
         "t",
         "t",
         "f",
         "CYNTHIA  MASON",
         "200000.0",
         "DENTON  BROWNING",
         "200000.0",
         null,
         null,
         null,
         null,
         null,
         null,
         "https://www.usaspending.gov/award/CONT_AWD_15JPSS23F00000433_1501_15JPSS20G00000334_1501/",
         "2024-09-23",
         "2024-09-30"
        ],
        [
         "2",
         "1501_8000_15JPSS24F00000983_0_NNG15SD91B_0",
         "CONT_AWD_15JPSS24F00000983_1501_NNG15SD91B_8000",
         "15JPSS24F00000983",
         "0",
         "0.0",
         "8000.0",
         "NATIONAL AERONAUTICS AND SPACE ADMINISTRATION",
         "NNG15SD91B",
         "11",
         "0.0",
         "0.0",
         "2061947.87",
         "2068170.2",
         "2068170.2",
         "2068170.2",
         "2068170.2",
         "Q: Not Designated Nonemergency/Emergency/Disaster/Wildfire Suppression",
         null,
         null,
         null,
         null,
         "2024-09-30",
         "2024",
         "2024-10-01",
         "2024-11-30",
         "2024-11-30 00:00:00",
         null,
         "2023-08-08",
         "15",
         "Department of Justice",
         "1501",
         "Offices, Boards and Divisions",
         "15JPSS",
         "JMD-PROCUREMENT SERVICES STAFF",
         "15",
         "Department of Justice",
         "1501",
         "Offices, Boards and Divisions",
         "15JSDS",
         "SERVICE DELIVERY STAFF (JMD)",
         "015-X-4526-000",
         "015-4526",
         "25.7: Operation and maintenance of equipment",
         "0801: FINANCIAL AND EMPLOYEE DATA;0801: REIMBURSABLE PROGRAM ACTIVITY - WCF",
         "X",
         "NOT APPLICABLE",
         null,
         null,
         "E41LV9AJGHQ1",
         null,
         "PARAGON MICRO INC",
         "PARAGON MICRO INC.",
         null,
         "4ZHT8",
         "E41LV9AJGHQ1",
         null,
         "PARAGON MICRO INC",
         "PARAGON MICRO INC.",
         "USA",
         "UNITED STATES",
         "2 CORPORATE DR STE 105",
         null,
         "LAKE ZURICH",
         "17097.0",
         "LAKE",
         "17.0",
         "IL",
         "ILLINOIS",
         "600478933",
         "IL-09",
         "IL-09",
         "7034039820",
         "8476378369.0",
         "USA",
         "UNITED STATES",
         "RESTON",
         "51059.0",
         "FAIRFAX",
         "51.0",
         "VA",
         "VIRGINIA",
         "201903295",
         "VA-11",
         "VA-11",
         "AWARD",
         "C",
         "DELIVERY ORDER",
         null,
         null,
         null,
         null,
         null,
         null,
         "J",
         "FIRM FIXED PRICE",
         "CISCO EQUIPMENT",
         "CISCO EQUIPMENT",
         null,
         null,
         "15JNSD23Q00000015",
         "1.0",
         null,
         null,
         "7B22",
         "IT AND TELECOM - COMPUTE: SERVERS (HARDWARE AND PERPETUAL LICENSE SOFTWARE)",
         "H",
         "NOT BUNDLED",
         null,
         null,
         "541519.0",
         "OTHER COMPUTER RELATED SERVICES",
         "C",
         "NO CLAUSES INCLUDED AND NO SUSTAINABILITY INCLUDED",
         "A",
         "U.S. OWNED BUSINESS",
         null,
         null,
         null,
         null,
         "E",
         "NOT REQUIRED",
         "USA",
         "UNITED STATES",
         "D",
         "MFG IN U.S.",
         "B",
         "PLAN NOT REQUIRED",
         "D",
         "FULL AND OPEN COMPETITION AFTER EXCLUSION OF SOURCES",
         "MAFO",
         "SUBJECT TO MULTIPLE AWARD FAIR OPPORTUNITY",
         null,
         null,
         "NONE",
         "NO PREFERENCE USED",
         null,
         null,
         "FAIR",
         "FAIR OPPORTUNITY GIVEN",
         null,
         null,
         "4.0",
         "A",
         "COMMERCIAL PRODUCTS/SERVICES",
         "f",
         "N",
         "NO",
         "N",
         "NO",
         "Y",
         "YES",
         "N",
         "NO",
         null,
         "N",
         "NO",
         "X",
         "NOT APPLICABLE",
         "X",
         "NOT APPLICABLE",
         "X",
         "NOT APPLICABLE",
         "X",
         "NOT APPLICABLE",
         null,
         null,
         "A",
         "GWAC",
         "M",
         "MULTIPLE AWARD",
         null,
         null,
         null,
         null,
         null,
         "X",
         "NOT APPLICABLE EXEMPT FROM CAS",
         "N",
         "TRANSACTION DOES NOT USE GFE/GFP",
         null,
         null,
         "X",
         "NO",
         "D",
         "NOT CONSOLIDATED",
         "X",
         "NOT APPLICABLE",
         null,
         null,
         null,
         null,
         "N",
         "NO",
         "X",
         "NOT APPLICABLE",
         "f",
         "f",
         "f",
         "f",
         "f",
         "f",
         "f",
         "f",
         "f",
         "f",
         "f",
         "f",
         "f",
         "f",
         "f",
         "f",
         "f",
         "f",
         "f",
         "SMALL BUSINESS",
         "S",
         "f",
         "f",
         "f",
         "f",
         "f",
         "f",
         "f",
         "f",
         "f",
         "f",
         "f",
         "f",
         "f",
         "f",
         "f",
         "f",
         "f",
         "CORPORATE NOT TAX EXEMPT",
         "t",
         "f",
         "f",
         "f",
         "f",
         "f",
         "f",
         "f",
         "f",
         "f",
         "f",
         "f",
         "f",
         "f",
         "f",
         "f",
         "f",
         "t",
         "f",
         "f",
         "f",
         "f",
         "f",
         "f",
         "f",
         "f",
         "f",
         "f",
         "t",
         "f",
         "f",
         "f",
         "f",
         "f",
         "f",
         "f",
         "f",
         "f",
         "f",
         "f",
         "f",
         "f",
         "f",
         "f",
         "f",
         "f",
         "f",
         "f",
         "f",
         "f",
         null,
         null,
         null,
         null,
         null,
         null,
         null,
         null,
         null,
         null,
         "https://www.usaspending.gov/award/CONT_AWD_15JPSS24F00000983_1501_NNG15SD91B_8000/",
         "2024-09-30",
         "2024-10-01"
        ],
        [
         "3",
         "1544_-NONE-_15M10224PA4700495_0_-NONE-_0",
         "CONT_AWD_15M10224PA4700495_1544_-NONE-_-NONE-",
         "15M10224PA4700495",
         "0",
         "0.0",
         null,
         null,
         null,
         null,
         "54725.0",
         "54725.0",
         null,
         "54725.0",
         "54725.0",
         "54725.0",
         "54725.0",
         "Q: Not Designated Nonemergency/Emergency/Disaster/Wildfire Suppression",
         null,
         null,
         null,
         null,
         "2024-09-30",
         "2024",
         "2024-09-30",
         "2025-09-29",
         "2025-09-29 00:00:00",
         null,
         "2024-09-24",
         "15",
         "Department of Justice",
         "1544",
         "U.S. Marshals Service",
         "15M102",
         "OFFICE OF PROCUREMENT, PROCUREMENT APC – A47",
         "15",
         "Department of Justice",
         "1544",
         "U.S. Marshals Service",
         "15MA30",
         "U.S. DEPT OF JUSTICE, USMS",
         "015-2024/2024-0324-000",
         "015-0324",
         "31.0: Equipment",
         "0006: USMS SALARIES AND EXPENSES - TACTICAL OPERATIONS",
         "X",
         "NOT APPLICABLE",
         null,
         null,
         "CEE6JVCSJXS7",
         null,
         "WHITMOYER CHEVROLET INC",
         "WHITMOYER CHEVROLET INC",
         null,
         "9LUV0",
         "CEE6JVCSJXS7",
         null,
         "WHITMOYER CHEVROLET INC",
         "WHITMOYER CHEVROLET INC",
         "USA",
         "UNITED STATES",
         "1001 E MAIN ST",
         "ROUTE 2",
         "MOUNT JOY",
         "42071.0",
         "LANCASTER",
         "42.0",
         "PA",
         "PENNSYLVANIA",
         "175529333",
         "PA-11",
         "PA-11",
         "7176538183",
         "7176539277.0",
         "USA",
         "UNITED STATES",
         "MOUNT JOY",
         "42071.0",
         "LANCASTER",
         "42.0",
         "PA",
         "PENNSYLVANIA",
         "175529333",
         "PA-11",
         "PA-11",
         "AWARD",
         "B",
         "PURCHASE ORDER",
         null,
         null,
         null,
         null,
         null,
         null,
         "J",
         "FIRM FIXED PRICE",
         "FY24 MSD USE VEHICLE WHITE TAHOE AND/OR EQUIVILANT",
         "FY24 MSD USE VEHICLE WHITE TAHOE AND/OR EQUIVILANT",
         null,
         null,
         "15M10224RA4700354",
         "1.0",
         null,
         null,
         "6910",
         "TRAINING AIDS",
         "H",
         "NOT BUNDLED",
         null,
         null,
         "441110.0",
         "NEW CAR DEALERS",
         "C",
         "NO CLAUSES INCLUDED AND NO SUSTAINABILITY INCLUDED",
         "A",
         "U.S. OWNED BUSINESS",
         null,
         null,
         null,
         null,
         "E",
         "NOT REQUIRED",
         "USA",
         "UNITED STATES",
         "D",
         "MFG IN U.S.",
         "B",
         "PLAN NOT REQUIRED",
         "F",
         "COMPETED UNDER SAP",
         "SP1",
         "SIMPLIFIED ACQUISITION",
         "SBA",
         "SMALL BUSINESS SET ASIDE - TOTAL",
         "NONE",
         "NO PREFERENCE USED",
         null,
         null,
         null,
         null,
         null,
         null,
         "2.0",
         "A",
         "COMMERCIAL PRODUCTS/SERVICES",
         "f",
         "N",
         "NO",
         null,
         null,
         "N",
         "NO",
         "N",
         "NO",
         null,
         "N",
         "NO",
         "N",
         "NO",
         "N",
         "NO",
         "N",
         "NO",
         "X",
         "NOT APPLICABLE",
         null,
         null,
         null,
         null,
         null,
         null,
         null,
         null,
         null,
         null,
         null,
         null,
         null,
         "N",
         "TRANSACTION DOES NOT USE GFE/GFP",
         null,
         null,
         "X",
         "NO",
         "D",
         "NOT CONSOLIDATED",
         "X",
         "NOT APPLICABLE",
         null,
         null,
         null,
         null,
         "N",
         "NO",
         "X",
         "NOT APPLICABLE",
         "f",
         "f",
         "f",
         "f",
         "f",
         "f",
         "f",
         "f",
         "f",
         "f",
         "f",
         "f",
         "t",
         "t",
         "f",
         "f",
         "f",
         "f",
         "f",
         "SMALL BUSINESS",
         "S",
         "f",
         "f",
         "f",
         "f",
         "f",
         "f",
         "f",
         "f",
         "f",
         "f",
         "f",
         "f",
         "f",
         "f",
         "f",
         "f",
         "f",
         "CORPORATE NOT TAX EXEMPT",
         "t",
         "f",
         "f",
         "f",
         "f",
         "f",
         "f",
         "f",
         "f",
         "f",
         "f",
         "f",
         "f",
         "f",
         "f",
         "f",
         "f",
         "t",
         "f",
         "f",
         "f",
         "f",
         "f",
         "f",
         "f",
         "t",
         "f",
         "f",
         "t",
         "f",
         "f",
         "f",
         "f",
         "f",
         "f",
         "f",
         "f",
         "f",
         "f",
         "f",
         "f",
         "f",
         "f",
         "f",
         "f",
         "t",
         "f",
         "f",
         "f",
         "f",
         null,
         null,
         null,
         null,
         null,
         null,
         null,
         null,
         null,
         null,
         "https://www.usaspending.gov/award/CONT_AWD_15M10224PA4700495_1544_-NONE-_-NONE-/",
         "2024-09-30",
         "2024-09-30"
        ],
        [
         "4",
         "1542_1542_15UASH24F00000851_0_15UC0C21D00001511_0",
         "CONT_AWD_15UASH24F00000851_1542_15UC0C21D00001511_1542",
         "15UASH24F00000851",
         "0",
         "0.0",
         "1542.0",
         "FEDERAL PRISON INDUSTRIES, INC.",
         "15UC0C21D00001511",
         "0",
         "43452.9",
         "43452.9",
         "-46653.62",
         "43452.9",
         "43452.9",
         "43452.9",
         "43452.9",
         "Q: Not Designated Nonemergency/Emergency/Disaster/Wildfire Suppression",
         null,
         null,
         null,
         null,
         "2024-09-30",
         "2024",
         "2024-09-30",
         "2024-10-29",
         "2024-10-29 00:00:00",
         null,
         null,
         "15",
         "Department of Justice",
         "1542",
         "Federal Prison Industries / Unicor",
         "15UASH",
         "FEDERAL PRISON INDUSTRIES, INC",
         "15",
         "Department of Justice",
         "1542",
         "Federal Prison Industries / Unicor",
         "15UASH",
         "FEDERAL PRISON INDUSTRIES, INC",
         "015-X-4500-000",
         "015-4500",
         "26.0: Supplies and materials",
         "0804: FEDERAL PRISON INDUSTRIES",
         "X",
         "NOT APPLICABLE",
         null,
         null,
         "NLW2JE3WJ1T9",
         null,
         "J G EDELEN CO INC",
         "J. G. EDELEN COMPANY, INC.",
         null,
         "026F7",
         "NLW2JE3WJ1T9",
         null,
         "J G EDELEN CO INC",
         "J G EDELEN CO INC",
         "USA",
         "UNITED STATES",
         "8901 KELSO DR",
         null,
         "BALTIMORE",
         "24005.0",
         "BALTIMORE",
         "24.0",
         "MD",
         "MARYLAND",
         "212213113",
         "MD-02",
         "MD-02",
         "4109181200",
         "4109180964.0",
         "USA",
         "UNITED STATES",
         "ESSEX",
         "24005.0",
         "BALTIMORE",
         "24.0",
         "MD",
         "MARYLAND",
         "212213113",
         "MD-02",
         "MD-02",
         "AWARD",
         "C",
         "DELIVERY ORDER",
         null,
         null,
         null,
         null,
         null,
         null,
         "J",
         "FIRM FIXED PRICE",
         "HARDWARE",
         "HARDWARE",
         null,
         null,
         null,
         "1.0",
         null,
         null,
         "5340",
         "HARDWARE, COMMERCIAL",
         "H",
         "NOT BUNDLED",
         null,
         null,
         "332510.0",
         "HARDWARE MANUFACTURING",
         "C",
         "NO CLAUSES INCLUDED AND NO SUSTAINABILITY INCLUDED",
         "A",
         "U.S. OWNED BUSINESS",
         null,
         null,
         null,
         null,
         "E",
         "NOT REQUIRED",
         "USA",
         "UNITED STATES",
         "D",
         "MFG IN U.S.",
         "B",
         "PLAN NOT REQUIRED",
         "F",
         "COMPETED UNDER SAP",
         "SP1",
         "SIMPLIFIED ACQUISITION",
         null,
         null,
         "NONE",
         "NO PREFERENCE USED",
         null,
         null,
         null,
         null,
         null,
         null,
         null,
         "A",
         "COMMERCIAL PRODUCTS/SERVICES",
         "f",
         "N",
         "NO",
         "N",
         "NO",
         "Y",
         "YES",
         "N",
         "NO",
         null,
         "N",
         "NO",
         "X",
         "NOT APPLICABLE",
         "X",
         "NOT APPLICABLE",
         "X",
         "NOT APPLICABLE",
         "X",
         "NOT APPLICABLE",
         null,
         null,
         "B",
         "IDC",
         "S",
         "SINGLE AWARD",
         null,
         null,
         null,
         "N",
         "NO",
         "X",
         "NOT APPLICABLE EXEMPT FROM CAS",
         "N",
         "TRANSACTION DOES NOT USE GFE/GFP",
         null,
         null,
         "X",
         "NO",
         "D",
         "NOT CONSOLIDATED",
         "X",
         "NOT APPLICABLE",
         "N",
         "NO",
         null,
         null,
         "N",
         "NO",
         "X",
         "NOT APPLICABLE",
         "f",
         "f",
         "f",
         "f",
         "f",
         "f",
         "f",
         "f",
         "f",
         "f",
         "f",
         "f",
         "f",
         "f",
         "f",
         "f",
         "f",
         "f",
         "f",
         "SMALL BUSINESS",
         "S",
         "f",
         "f",
         "f",
         "f",
         "f",
         "f",
         "f",
         "f",
         "f",
         "f",
         "f",
         "f",
         "f",
         "f",
         "f",
         "f",
         "f",
         "CORPORATE NOT TAX EXEMPT",
         "t",
         "f",
         "f",
         "f",
         "f",
         "f",
         "f",
         "f",
         "f",
         "f",
         "f",
         "f",
         "t",
         "f",
         "f",
         "f",
         "f",
         "t",
         "f",
         "f",
         "f",
         "f",
         "f",
         "f",
         "f",
         "t",
         "f",
         "f",
         "t",
         "f",
         "f",
         "f",
         "f",
         "f",
         "f",
         "f",
         "f",
         "f",
         "f",
         "f",
         "f",
         "f",
         "f",
         "f",
         "f",
         "f",
         "f",
         "f",
         "f",
         "f",
         null,
         null,
         null,
         null,
         null,
         null,
         null,
         null,
         null,
         null,
         "https://www.usaspending.gov/award/CONT_AWD_15UASH24F00000851_1542_15UC0C21D00001511_1542/",
         "2024-10-01",
         "2024-10-01"
        ]
       ],
       "shape": {
        "columns": 297,
        "rows": 5
       }
      },
      "text/html": [
       "<div>\n",
       "<style scoped>\n",
       "    .dataframe tbody tr th:only-of-type {\n",
       "        vertical-align: middle;\n",
       "    }\n",
       "\n",
       "    .dataframe tbody tr th {\n",
       "        vertical-align: top;\n",
       "    }\n",
       "\n",
       "    .dataframe thead th {\n",
       "        text-align: right;\n",
       "    }\n",
       "</style>\n",
       "<table border=\"1\" class=\"dataframe\">\n",
       "  <thead>\n",
       "    <tr style=\"text-align: right;\">\n",
       "      <th></th>\n",
       "      <th>contract_transaction_unique_key</th>\n",
       "      <th>contract_award_unique_key</th>\n",
       "      <th>award_id_piid</th>\n",
       "      <th>modification_number</th>\n",
       "      <th>transaction_number</th>\n",
       "      <th>parent_award_agency_id</th>\n",
       "      <th>parent_award_agency_name</th>\n",
       "      <th>parent_award_id_piid</th>\n",
       "      <th>parent_award_modification_number</th>\n",
       "      <th>federal_action_obligation</th>\n",
       "      <th>...</th>\n",
       "      <th>highly_compensated_officer_2_amount</th>\n",
       "      <th>highly_compensated_officer_3_name</th>\n",
       "      <th>highly_compensated_officer_3_amount</th>\n",
       "      <th>highly_compensated_officer_4_name</th>\n",
       "      <th>highly_compensated_officer_4_amount</th>\n",
       "      <th>highly_compensated_officer_5_name</th>\n",
       "      <th>highly_compensated_officer_5_amount</th>\n",
       "      <th>usaspending_permalink</th>\n",
       "      <th>initial_report_date</th>\n",
       "      <th>last_modified_date</th>\n",
       "    </tr>\n",
       "  </thead>\n",
       "  <tbody>\n",
       "    <tr>\n",
       "      <th>0</th>\n",
       "      <td>1501_4732_15JTAX22F00000053_P00008_GS00F156GA_0</td>\n",
       "      <td>CONT_AWD_15JTAX22F00000053_1501_GS00F156GA_4732</td>\n",
       "      <td>15JTAX22F00000053</td>\n",
       "      <td>P00008</td>\n",
       "      <td>0.0</td>\n",
       "      <td>4732.0</td>\n",
       "      <td>FEDERAL ACQUISITION SERVICE</td>\n",
       "      <td>GS00F156GA</td>\n",
       "      <td>PA0019</td>\n",
       "      <td>149841.82</td>\n",
       "      <td>...</td>\n",
       "      <td>NaN</td>\n",
       "      <td>NaN</td>\n",
       "      <td>NaN</td>\n",
       "      <td>NaN</td>\n",
       "      <td>NaN</td>\n",
       "      <td>NaN</td>\n",
       "      <td>NaN</td>\n",
       "      <td>https://www.usaspending.gov/award/CONT_AWD_15J...</td>\n",
       "      <td>2024-09-26</td>\n",
       "      <td>2024-09-30</td>\n",
       "    </tr>\n",
       "    <tr>\n",
       "      <th>1</th>\n",
       "      <td>1501_1501_15JPSS23F00000433_P00002_15JPSS20G00...</td>\n",
       "      <td>CONT_AWD_15JPSS23F00000433_1501_15JPSS20G00000...</td>\n",
       "      <td>15JPSS23F00000433</td>\n",
       "      <td>P00002</td>\n",
       "      <td>0.0</td>\n",
       "      <td>1501.0</td>\n",
       "      <td>OFFICES, BOARDS AND DIVISIONS</td>\n",
       "      <td>15JPSS20G00000334</td>\n",
       "      <td>0</td>\n",
       "      <td>-2561.54</td>\n",
       "      <td>...</td>\n",
       "      <td>200000.0</td>\n",
       "      <td>NaN</td>\n",
       "      <td>NaN</td>\n",
       "      <td>NaN</td>\n",
       "      <td>NaN</td>\n",
       "      <td>NaN</td>\n",
       "      <td>NaN</td>\n",
       "      <td>https://www.usaspending.gov/award/CONT_AWD_15J...</td>\n",
       "      <td>2024-09-23</td>\n",
       "      <td>2024-09-30</td>\n",
       "    </tr>\n",
       "    <tr>\n",
       "      <th>2</th>\n",
       "      <td>1501_8000_15JPSS24F00000983_0_NNG15SD91B_0</td>\n",
       "      <td>CONT_AWD_15JPSS24F00000983_1501_NNG15SD91B_8000</td>\n",
       "      <td>15JPSS24F00000983</td>\n",
       "      <td>0</td>\n",
       "      <td>0.0</td>\n",
       "      <td>8000.0</td>\n",
       "      <td>NATIONAL AERONAUTICS AND SPACE ADMINISTRATION</td>\n",
       "      <td>NNG15SD91B</td>\n",
       "      <td>11</td>\n",
       "      <td>0.00</td>\n",
       "      <td>...</td>\n",
       "      <td>NaN</td>\n",
       "      <td>NaN</td>\n",
       "      <td>NaN</td>\n",
       "      <td>NaN</td>\n",
       "      <td>NaN</td>\n",
       "      <td>NaN</td>\n",
       "      <td>NaN</td>\n",
       "      <td>https://www.usaspending.gov/award/CONT_AWD_15J...</td>\n",
       "      <td>2024-09-30</td>\n",
       "      <td>2024-10-01</td>\n",
       "    </tr>\n",
       "    <tr>\n",
       "      <th>3</th>\n",
       "      <td>1544_-NONE-_15M10224PA4700495_0_-NONE-_0</td>\n",
       "      <td>CONT_AWD_15M10224PA4700495_1544_-NONE-_-NONE-</td>\n",
       "      <td>15M10224PA4700495</td>\n",
       "      <td>0</td>\n",
       "      <td>0.0</td>\n",
       "      <td>NaN</td>\n",
       "      <td>NaN</td>\n",
       "      <td>NaN</td>\n",
       "      <td>NaN</td>\n",
       "      <td>54725.00</td>\n",
       "      <td>...</td>\n",
       "      <td>NaN</td>\n",
       "      <td>NaN</td>\n",
       "      <td>NaN</td>\n",
       "      <td>NaN</td>\n",
       "      <td>NaN</td>\n",
       "      <td>NaN</td>\n",
       "      <td>NaN</td>\n",
       "      <td>https://www.usaspending.gov/award/CONT_AWD_15M...</td>\n",
       "      <td>2024-09-30</td>\n",
       "      <td>2024-09-30</td>\n",
       "    </tr>\n",
       "    <tr>\n",
       "      <th>4</th>\n",
       "      <td>1542_1542_15UASH24F00000851_0_15UC0C21D00001511_0</td>\n",
       "      <td>CONT_AWD_15UASH24F00000851_1542_15UC0C21D00001...</td>\n",
       "      <td>15UASH24F00000851</td>\n",
       "      <td>0</td>\n",
       "      <td>0.0</td>\n",
       "      <td>1542.0</td>\n",
       "      <td>FEDERAL PRISON INDUSTRIES, INC.</td>\n",
       "      <td>15UC0C21D00001511</td>\n",
       "      <td>0</td>\n",
       "      <td>43452.90</td>\n",
       "      <td>...</td>\n",
       "      <td>NaN</td>\n",
       "      <td>NaN</td>\n",
       "      <td>NaN</td>\n",
       "      <td>NaN</td>\n",
       "      <td>NaN</td>\n",
       "      <td>NaN</td>\n",
       "      <td>NaN</td>\n",
       "      <td>https://www.usaspending.gov/award/CONT_AWD_15U...</td>\n",
       "      <td>2024-10-01</td>\n",
       "      <td>2024-10-01</td>\n",
       "    </tr>\n",
       "  </tbody>\n",
       "</table>\n",
       "<p>5 rows × 297 columns</p>\n",
       "</div>"
      ],
      "text/plain": [
       "                     contract_transaction_unique_key  \\\n",
       "0    1501_4732_15JTAX22F00000053_P00008_GS00F156GA_0   \n",
       "1  1501_1501_15JPSS23F00000433_P00002_15JPSS20G00...   \n",
       "2         1501_8000_15JPSS24F00000983_0_NNG15SD91B_0   \n",
       "3           1544_-NONE-_15M10224PA4700495_0_-NONE-_0   \n",
       "4  1542_1542_15UASH24F00000851_0_15UC0C21D00001511_0   \n",
       "\n",
       "                           contract_award_unique_key      award_id_piid  \\\n",
       "0    CONT_AWD_15JTAX22F00000053_1501_GS00F156GA_4732  15JTAX22F00000053   \n",
       "1  CONT_AWD_15JPSS23F00000433_1501_15JPSS20G00000...  15JPSS23F00000433   \n",
       "2    CONT_AWD_15JPSS24F00000983_1501_NNG15SD91B_8000  15JPSS24F00000983   \n",
       "3      CONT_AWD_15M10224PA4700495_1544_-NONE-_-NONE-  15M10224PA4700495   \n",
       "4  CONT_AWD_15UASH24F00000851_1542_15UC0C21D00001...  15UASH24F00000851   \n",
       "\n",
       "  modification_number  transaction_number  parent_award_agency_id  \\\n",
       "0              P00008                 0.0                  4732.0   \n",
       "1              P00002                 0.0                  1501.0   \n",
       "2                   0                 0.0                  8000.0   \n",
       "3                   0                 0.0                     NaN   \n",
       "4                   0                 0.0                  1542.0   \n",
       "\n",
       "                        parent_award_agency_name parent_award_id_piid  \\\n",
       "0                    FEDERAL ACQUISITION SERVICE           GS00F156GA   \n",
       "1                  OFFICES, BOARDS AND DIVISIONS    15JPSS20G00000334   \n",
       "2  NATIONAL AERONAUTICS AND SPACE ADMINISTRATION           NNG15SD91B   \n",
       "3                                            NaN                  NaN   \n",
       "4                FEDERAL PRISON INDUSTRIES, INC.    15UC0C21D00001511   \n",
       "\n",
       "  parent_award_modification_number  federal_action_obligation  ...  \\\n",
       "0                           PA0019                  149841.82  ...   \n",
       "1                                0                   -2561.54  ...   \n",
       "2                               11                       0.00  ...   \n",
       "3                              NaN                   54725.00  ...   \n",
       "4                                0                   43452.90  ...   \n",
       "\n",
       "   highly_compensated_officer_2_amount  highly_compensated_officer_3_name  \\\n",
       "0                                  NaN                                NaN   \n",
       "1                             200000.0                                NaN   \n",
       "2                                  NaN                                NaN   \n",
       "3                                  NaN                                NaN   \n",
       "4                                  NaN                                NaN   \n",
       "\n",
       "   highly_compensated_officer_3_amount  highly_compensated_officer_4_name  \\\n",
       "0                                  NaN                                NaN   \n",
       "1                                  NaN                                NaN   \n",
       "2                                  NaN                                NaN   \n",
       "3                                  NaN                                NaN   \n",
       "4                                  NaN                                NaN   \n",
       "\n",
       "   highly_compensated_officer_4_amount  highly_compensated_officer_5_name  \\\n",
       "0                                  NaN                                NaN   \n",
       "1                                  NaN                                NaN   \n",
       "2                                  NaN                                NaN   \n",
       "3                                  NaN                                NaN   \n",
       "4                                  NaN                                NaN   \n",
       "\n",
       "  highly_compensated_officer_5_amount  \\\n",
       "0                                 NaN   \n",
       "1                                 NaN   \n",
       "2                                 NaN   \n",
       "3                                 NaN   \n",
       "4                                 NaN   \n",
       "\n",
       "                               usaspending_permalink  initial_report_date  \\\n",
       "0  https://www.usaspending.gov/award/CONT_AWD_15J...           2024-09-26   \n",
       "1  https://www.usaspending.gov/award/CONT_AWD_15J...           2024-09-23   \n",
       "2  https://www.usaspending.gov/award/CONT_AWD_15J...           2024-09-30   \n",
       "3  https://www.usaspending.gov/award/CONT_AWD_15M...           2024-09-30   \n",
       "4  https://www.usaspending.gov/award/CONT_AWD_15U...           2024-10-01   \n",
       "\n",
       "   last_modified_date  \n",
       "0          2024-09-30  \n",
       "1          2024-09-30  \n",
       "2          2024-10-01  \n",
       "3          2024-09-30  \n",
       "4          2024-10-01  \n",
       "\n",
       "[5 rows x 297 columns]"
      ]
     },
     "execution_count": 5,
     "metadata": {},
     "output_type": "execute_result"
    }
   ],
   "source": [
    "# read each csv file in the \"data\" folder and concatenate them into a single dataframe\n",
    "\n",
    "# Create a list to store each CSV file's dataframe\n",
    "dfs = []\n",
    "\n",
    "# Iterate through each csv file in the \"data\" folder\n",
    "for file in os.listdir(\"data\"):\n",
    "    if file.endswith(\".csv\"):\n",
    "        df = pd.read_csv(f\"data/{file}\")\n",
    "        dfs.append(df)\n",
    "\n",
    "# Combine the list of dataframes into one dataframe\n",
    "df = pd.concat(dfs, ignore_index=True)\n",
    "\n",
    "df.head()"
   ]
  },
  {
   "cell_type": "code",
   "execution_count": 6,
   "metadata": {},
   "outputs": [],
   "source": [
    "# df_2024 = pd.read_csv(f'FY2024_015_Contracts_Full_20250213_1.csv')\n",
    "# df_2025 = pd.read_csv(f'FY2025_015_Contracts_Full_20250213_1.csv')\n",
    "\n",
    "# # combine the two dataframes\n",
    "# df = pd.concat([df_2024, df_2025])"
   ]
  },
  {
   "cell_type": "code",
   "execution_count": 7,
   "metadata": {},
   "outputs": [],
   "source": [
    "# select columns award_id_piid, action_date_fiscal_year, recipient_uei, recipient_name, recipient_parent_uei, recipient_parent_name, product_or_service_code_description, product_or_service_code, last_modified, potential_total_value_of_award\n",
    "df_narrow = df[['award_id_piid', 'action_date_fiscal_year', 'recipient_uei', 'recipient_name', 'recipient_parent_uei', 'recipient_parent_name', 'product_or_service_code_description', 'product_or_service_code', 'last_modified_date', 'potential_total_value_of_award']]"
   ]
  },
  {
   "cell_type": "code",
   "execution_count": 8,
   "metadata": {},
   "outputs": [],
   "source": [
    "# Change column type to datetime64[ns] for column: 'last_modified_date'\n",
    "df_narrow = df_narrow.astype({'last_modified_date': 'datetime64[ns]'})"
   ]
  },
  {
   "cell_type": "code",
   "execution_count": 9,
   "metadata": {},
   "outputs": [
    {
     "data": {
      "application/vnd.microsoft.datawrangler.viewer.v0+json": {
       "columns": [
        {
         "name": "index",
         "rawType": "int64",
         "type": "integer"
        },
        {
         "name": "award_id_piid",
         "rawType": "object",
         "type": "string"
        },
        {
         "name": "action_date_fiscal_year",
         "rawType": "int64",
         "type": "integer"
        },
        {
         "name": "last_modified_date",
         "rawType": "object",
         "type": "string"
        },
        {
         "name": "potential_total_value_of_award",
         "rawType": "object",
         "type": "string"
        },
        {
         "name": "row_count",
         "rawType": "int64",
         "type": "integer"
        }
       ],
       "conversionMethod": "pd.DataFrame",
       "ref": "6669d164-b4c9-4035-b1da-8b3faaa3d553",
       "rows": [
        [
         "17235",
         "15F06724A0000311",
         "2024",
         "2024-09-18",
         "$86,000,000,000.00",
         "1"
        ],
        [
         "55303",
         "15F06719F0001923",
         "2025",
         "2024-11-18",
         "$50,481,562,555.57",
         "2"
        ],
        [
         "55011",
         "15F06719F0001923",
         "2025",
         "2024-11-18",
         "$50,481,562,555.57",
         "2"
        ],
        [
         "73066",
         "15JPSS25F00000239",
         "2025",
         "2025-01-22",
         "$10,000,000,000.00",
         "1"
        ],
        [
         "16835",
         "15F06724A0000312",
         "2024",
         "2024-09-18",
         "$8,600,000,000.00",
         "1"
        ]
       ],
       "shape": {
        "columns": 5,
        "rows": 5
       }
      },
      "text/html": [
       "<div>\n",
       "<style scoped>\n",
       "    .dataframe tbody tr th:only-of-type {\n",
       "        vertical-align: middle;\n",
       "    }\n",
       "\n",
       "    .dataframe tbody tr th {\n",
       "        vertical-align: top;\n",
       "    }\n",
       "\n",
       "    .dataframe thead th {\n",
       "        text-align: right;\n",
       "    }\n",
       "</style>\n",
       "<table border=\"1\" class=\"dataframe\">\n",
       "  <thead>\n",
       "    <tr style=\"text-align: right;\">\n",
       "      <th></th>\n",
       "      <th>award_id_piid</th>\n",
       "      <th>action_date_fiscal_year</th>\n",
       "      <th>last_modified_date</th>\n",
       "      <th>potential_total_value_of_award</th>\n",
       "      <th>row_count</th>\n",
       "    </tr>\n",
       "  </thead>\n",
       "  <tbody>\n",
       "    <tr>\n",
       "      <th>17235</th>\n",
       "      <td>15F06724A0000311</td>\n",
       "      <td>2024</td>\n",
       "      <td>2024-09-18</td>\n",
       "      <td>$86,000,000,000.00</td>\n",
       "      <td>1</td>\n",
       "    </tr>\n",
       "    <tr>\n",
       "      <th>55303</th>\n",
       "      <td>15F06719F0001923</td>\n",
       "      <td>2025</td>\n",
       "      <td>2024-11-18</td>\n",
       "      <td>$50,481,562,555.57</td>\n",
       "      <td>2</td>\n",
       "    </tr>\n",
       "    <tr>\n",
       "      <th>55011</th>\n",
       "      <td>15F06719F0001923</td>\n",
       "      <td>2025</td>\n",
       "      <td>2024-11-18</td>\n",
       "      <td>$50,481,562,555.57</td>\n",
       "      <td>2</td>\n",
       "    </tr>\n",
       "    <tr>\n",
       "      <th>73066</th>\n",
       "      <td>15JPSS25F00000239</td>\n",
       "      <td>2025</td>\n",
       "      <td>2025-01-22</td>\n",
       "      <td>$10,000,000,000.00</td>\n",
       "      <td>1</td>\n",
       "    </tr>\n",
       "    <tr>\n",
       "      <th>16835</th>\n",
       "      <td>15F06724A0000312</td>\n",
       "      <td>2024</td>\n",
       "      <td>2024-09-18</td>\n",
       "      <td>$8,600,000,000.00</td>\n",
       "      <td>1</td>\n",
       "    </tr>\n",
       "  </tbody>\n",
       "</table>\n",
       "</div>"
      ],
      "text/plain": [
       "           award_id_piid  action_date_fiscal_year last_modified_date  \\\n",
       "17235   15F06724A0000311                     2024         2024-09-18   \n",
       "55303   15F06719F0001923                     2025         2024-11-18   \n",
       "55011   15F06719F0001923                     2025         2024-11-18   \n",
       "73066  15JPSS25F00000239                     2025         2025-01-22   \n",
       "16835   15F06724A0000312                     2024         2024-09-18   \n",
       "\n",
       "      potential_total_value_of_award  row_count  \n",
       "17235             $86,000,000,000.00          1  \n",
       "55303             $50,481,562,555.57          2  \n",
       "55011             $50,481,562,555.57          2  \n",
       "73066             $10,000,000,000.00          1  \n",
       "16835              $8,600,000,000.00          1  "
      ]
     },
     "execution_count": 9,
     "metadata": {},
     "output_type": "execute_result"
    }
   ],
   "source": [
    "# 1. group by award_id_piid and max(last_modified) and return max(potential_total_value_of_award) count(rows)\n",
    "\n",
    "# Group by award_id_piid and get max last_modified_date\n",
    "df_grouped_award_id = df_narrow.groupby('award_id_piid')['last_modified_date'].max().reset_index()\n",
    "# Merge to get potential_total_value_of_award for max last_modified_date\n",
    "df_grouped_award_id_max_last_modified = pd.merge(df_narrow, df_grouped_award_id, on=['award_id_piid', 'last_modified_date'], how='inner')\n",
    "# Group by award_id_piid to get the number of rows\n",
    "row_counts = df_grouped_award_id_max_last_modified.groupby('award_id_piid').size().reset_index(name='row_count')\n",
    "# Merge row counts back to the main DataFrame\n",
    "df_grouped_award_id_max_last_modified = pd.merge(df_grouped_award_id_max_last_modified, row_counts, on='award_id_piid', how='inner')\n",
    "# Select relevant columns and sort\n",
    "df_grouped_award_id_max_last_modified = df_grouped_award_id_max_last_modified[['award_id_piid', 'action_date_fiscal_year', 'last_modified_date', 'potential_total_value_of_award', 'row_count']].sort_values(by='potential_total_value_of_award', ascending=False)\n",
    "\n",
    "# format the potential_total_value_of_award_sum column as currency\n",
    "df_grouped_award_id_max_last_modified['potential_total_value_of_award'] = df_grouped_award_id_max_last_modified['potential_total_value_of_award'].map('${:,.2f}'.format)\n",
    "# format the last_modified_date_max column as date\n",
    "df_grouped_award_id_max_last_modified['last_modified_date'] = df_grouped_award_id_max_last_modified['last_modified_date'].dt.strftime('%Y-%m-%d')\n",
    "\n",
    "df_grouped_award_id_max_last_modified.head()"
   ]
  },
  {
   "cell_type": "code",
   "execution_count": 10,
   "metadata": {},
   "outputs": [
    {
     "data": {
      "application/vnd.microsoft.datawrangler.viewer.v0+json": {
       "columns": [
        {
         "name": "index",
         "rawType": "int64",
         "type": "integer"
        },
        {
         "name": "recipient_uei",
         "rawType": "object",
         "type": "string"
        },
        {
         "name": "recipient_name",
         "rawType": "object",
         "type": "string"
        },
        {
         "name": "action_date_fiscal_year",
         "rawType": "int64",
         "type": "integer"
        },
        {
         "name": "last_modified_date",
         "rawType": "object",
         "type": "string"
        },
        {
         "name": "potential_total_value_of_award",
         "rawType": "object",
         "type": "string"
        },
        {
         "name": "row_count",
         "rawType": "int64",
         "type": "integer"
        }
       ],
       "conversionMethod": "pd.DataFrame",
       "ref": "e81f85c5-3ff4-4a1d-9c9b-8b80b59f4734",
       "rows": [
        [
         "5322",
         "QGJNGLBLVKY6",
         "CHENEGA INTEGRATED SECURITY SOLUTIONS, LLC",
         "2025",
         "2024-11-18",
         "$50,481,562,555.57",
         "2"
        ],
        [
         "5381",
         "QGJNGLBLVKY6",
         "CHENEGA INTEGRATED SECURITY SOLUTIONS, LLC",
         "2025",
         "2024-11-18",
         "$50,481,562,555.57",
         "2"
        ],
        [
         "2358",
         "P2RFJLVYFLF3",
         "KNOWLEDGE MANAGEMENT INC",
         "2024",
         "2024-09-19",
         "$8,600,000,000.00",
         "1"
        ],
        [
         "2278",
         "JPHFV985CTT2",
         "BASTION ANALYTICS, LLC",
         "2024",
         "2024-09-18",
         "$8,600,000,000.00",
         "1"
        ],
        [
         "2361",
         "U5NTTK3LE8D4",
         "IT VETERANS, LLC",
         "2024",
         "2024-09-18",
         "$8,600,000,000.00",
         "1"
        ]
       ],
       "shape": {
        "columns": 6,
        "rows": 5
       }
      },
      "text/html": [
       "<div>\n",
       "<style scoped>\n",
       "    .dataframe tbody tr th:only-of-type {\n",
       "        vertical-align: middle;\n",
       "    }\n",
       "\n",
       "    .dataframe tbody tr th {\n",
       "        vertical-align: top;\n",
       "    }\n",
       "\n",
       "    .dataframe thead th {\n",
       "        text-align: right;\n",
       "    }\n",
       "</style>\n",
       "<table border=\"1\" class=\"dataframe\">\n",
       "  <thead>\n",
       "    <tr style=\"text-align: right;\">\n",
       "      <th></th>\n",
       "      <th>recipient_uei</th>\n",
       "      <th>recipient_name</th>\n",
       "      <th>action_date_fiscal_year</th>\n",
       "      <th>last_modified_date</th>\n",
       "      <th>potential_total_value_of_award</th>\n",
       "      <th>row_count</th>\n",
       "    </tr>\n",
       "  </thead>\n",
       "  <tbody>\n",
       "    <tr>\n",
       "      <th>5322</th>\n",
       "      <td>QGJNGLBLVKY6</td>\n",
       "      <td>CHENEGA INTEGRATED SECURITY SOLUTIONS, LLC</td>\n",
       "      <td>2025</td>\n",
       "      <td>2024-11-18</td>\n",
       "      <td>$50,481,562,555.57</td>\n",
       "      <td>2</td>\n",
       "    </tr>\n",
       "    <tr>\n",
       "      <th>5381</th>\n",
       "      <td>QGJNGLBLVKY6</td>\n",
       "      <td>CHENEGA INTEGRATED SECURITY SOLUTIONS, LLC</td>\n",
       "      <td>2025</td>\n",
       "      <td>2024-11-18</td>\n",
       "      <td>$50,481,562,555.57</td>\n",
       "      <td>2</td>\n",
       "    </tr>\n",
       "    <tr>\n",
       "      <th>2358</th>\n",
       "      <td>P2RFJLVYFLF3</td>\n",
       "      <td>KNOWLEDGE MANAGEMENT INC</td>\n",
       "      <td>2024</td>\n",
       "      <td>2024-09-19</td>\n",
       "      <td>$8,600,000,000.00</td>\n",
       "      <td>1</td>\n",
       "    </tr>\n",
       "    <tr>\n",
       "      <th>2278</th>\n",
       "      <td>JPHFV985CTT2</td>\n",
       "      <td>BASTION ANALYTICS, LLC</td>\n",
       "      <td>2024</td>\n",
       "      <td>2024-09-18</td>\n",
       "      <td>$8,600,000,000.00</td>\n",
       "      <td>1</td>\n",
       "    </tr>\n",
       "    <tr>\n",
       "      <th>2361</th>\n",
       "      <td>U5NTTK3LE8D4</td>\n",
       "      <td>IT VETERANS, LLC</td>\n",
       "      <td>2024</td>\n",
       "      <td>2024-09-18</td>\n",
       "      <td>$8,600,000,000.00</td>\n",
       "      <td>1</td>\n",
       "    </tr>\n",
       "  </tbody>\n",
       "</table>\n",
       "</div>"
      ],
      "text/plain": [
       "     recipient_uei                              recipient_name  \\\n",
       "5322  QGJNGLBLVKY6  CHENEGA INTEGRATED SECURITY SOLUTIONS, LLC   \n",
       "5381  QGJNGLBLVKY6  CHENEGA INTEGRATED SECURITY SOLUTIONS, LLC   \n",
       "2358  P2RFJLVYFLF3                    KNOWLEDGE MANAGEMENT INC   \n",
       "2278  JPHFV985CTT2                      BASTION ANALYTICS, LLC   \n",
       "2361  U5NTTK3LE8D4                            IT VETERANS, LLC   \n",
       "\n",
       "      action_date_fiscal_year last_modified_date  \\\n",
       "5322                     2025         2024-11-18   \n",
       "5381                     2025         2024-11-18   \n",
       "2358                     2024         2024-09-19   \n",
       "2278                     2024         2024-09-18   \n",
       "2361                     2024         2024-09-18   \n",
       "\n",
       "     potential_total_value_of_award  row_count  \n",
       "5322             $50,481,562,555.57          2  \n",
       "5381             $50,481,562,555.57          2  \n",
       "2358              $8,600,000,000.00          1  \n",
       "2278              $8,600,000,000.00          1  \n",
       "2361              $8,600,000,000.00          1  "
      ]
     },
     "execution_count": 10,
     "metadata": {},
     "output_type": "execute_result"
    }
   ],
   "source": [
    "# 2. group by recipient_uei and max(last_modified) and return max(potential_total_value_of_award) count(rows)\n",
    "\n",
    "# Group by recipient_uei and get max last_modified_date\n",
    "df_grouped_recipient_uei = df_narrow.groupby('recipient_uei')['last_modified_date'].max().reset_index()\n",
    "# Merge to get potential_total_value_of_award for max last_modified_date\n",
    "df_grouped_recipient_uei_max_last_modified = pd.merge(df_narrow, df_grouped_recipient_uei, on=['recipient_uei', 'last_modified_date'], how='inner')\n",
    "# Group by recipient_uei to get the number of rows\n",
    "row_counts = df_grouped_recipient_uei_max_last_modified.groupby('recipient_uei').size().reset_index(name='row_count')\n",
    "# Merge row counts back to the main DataFrame\n",
    "df_grouped_recipient_uei_max_last_modified = pd.merge(df_grouped_recipient_uei_max_last_modified, row_counts, on='recipient_uei', how='inner')\n",
    "# Select relevant columns and sort\n",
    "df_grouped_recipient_uei_max_last_modified = df_grouped_recipient_uei_max_last_modified[['recipient_uei', 'recipient_name', 'action_date_fiscal_year', 'last_modified_date', 'potential_total_value_of_award', 'row_count']].sort_values(by='potential_total_value_of_award', ascending=False)\n",
    "\n",
    "# format the potential_total_value_of_award_sum column as currency\n",
    "df_grouped_recipient_uei_max_last_modified['potential_total_value_of_award'] = df_grouped_recipient_uei_max_last_modified['potential_total_value_of_award'].map('${:,.2f}'.format)\n",
    "# format the last_modified_date_max column as date\n",
    "df_grouped_recipient_uei_max_last_modified['last_modified_date'] = df_grouped_recipient_uei_max_last_modified['last_modified_date'].dt.strftime('%Y-%m-%d')\n",
    "\n",
    "df_grouped_recipient_uei_max_last_modified.head()"
   ]
  },
  {
   "cell_type": "code",
   "execution_count": 11,
   "metadata": {},
   "outputs": [
    {
     "data": {
      "application/vnd.microsoft.datawrangler.viewer.v0+json": {
       "columns": [
        {
         "name": "index",
         "rawType": "int64",
         "type": "integer"
        },
        {
         "name": "recipient_parent_uei",
         "rawType": "object",
         "type": "string"
        },
        {
         "name": "action_date_fiscal_year",
         "rawType": "int64",
         "type": "integer"
        },
        {
         "name": "last_modified_date",
         "rawType": "object",
         "type": "string"
        },
        {
         "name": "potential_total_value_of_award",
         "rawType": "object",
         "type": "string"
        },
        {
         "name": "row_count",
         "rawType": "int64",
         "type": "integer"
        }
       ],
       "conversionMethod": "pd.DataFrame",
       "ref": "b4ca610d-d661-4d13-877a-bd1f0d0bdfbc",
       "rows": [
        [
         "6051",
         "QGJNGLBLVKY6",
         "2025",
         "2024-11-18",
         "$50,481,562,555.57",
         "2"
        ],
        [
         "6108",
         "QGJNGLBLVKY6",
         "2025",
         "2024-11-18",
         "$50,481,562,555.57",
         "2"
        ],
        [
         "2304",
         "CFWRL5LXXX93",
         "2024",
         "2024-09-18",
         "$8,600,000,000.00",
         "1"
        ],
        [
         "6353",
         "GLPKRZJL8GM3",
         "2025",
         "2024-11-05",
         "$8,600,000,000.00",
         "1"
        ],
        [
         "2329",
         "FPVJBR6CXML9",
         "2024",
         "2024-09-18",
         "$8,600,000,000.00",
         "1"
        ]
       ],
       "shape": {
        "columns": 5,
        "rows": 5
       }
      },
      "text/html": [
       "<div>\n",
       "<style scoped>\n",
       "    .dataframe tbody tr th:only-of-type {\n",
       "        vertical-align: middle;\n",
       "    }\n",
       "\n",
       "    .dataframe tbody tr th {\n",
       "        vertical-align: top;\n",
       "    }\n",
       "\n",
       "    .dataframe thead th {\n",
       "        text-align: right;\n",
       "    }\n",
       "</style>\n",
       "<table border=\"1\" class=\"dataframe\">\n",
       "  <thead>\n",
       "    <tr style=\"text-align: right;\">\n",
       "      <th></th>\n",
       "      <th>recipient_parent_uei</th>\n",
       "      <th>action_date_fiscal_year</th>\n",
       "      <th>last_modified_date</th>\n",
       "      <th>potential_total_value_of_award</th>\n",
       "      <th>row_count</th>\n",
       "    </tr>\n",
       "  </thead>\n",
       "  <tbody>\n",
       "    <tr>\n",
       "      <th>6051</th>\n",
       "      <td>QGJNGLBLVKY6</td>\n",
       "      <td>2025</td>\n",
       "      <td>2024-11-18</td>\n",
       "      <td>$50,481,562,555.57</td>\n",
       "      <td>2</td>\n",
       "    </tr>\n",
       "    <tr>\n",
       "      <th>6108</th>\n",
       "      <td>QGJNGLBLVKY6</td>\n",
       "      <td>2025</td>\n",
       "      <td>2024-11-18</td>\n",
       "      <td>$50,481,562,555.57</td>\n",
       "      <td>2</td>\n",
       "    </tr>\n",
       "    <tr>\n",
       "      <th>2304</th>\n",
       "      <td>CFWRL5LXXX93</td>\n",
       "      <td>2024</td>\n",
       "      <td>2024-09-18</td>\n",
       "      <td>$8,600,000,000.00</td>\n",
       "      <td>1</td>\n",
       "    </tr>\n",
       "    <tr>\n",
       "      <th>6353</th>\n",
       "      <td>GLPKRZJL8GM3</td>\n",
       "      <td>2025</td>\n",
       "      <td>2024-11-05</td>\n",
       "      <td>$8,600,000,000.00</td>\n",
       "      <td>1</td>\n",
       "    </tr>\n",
       "    <tr>\n",
       "      <th>2329</th>\n",
       "      <td>FPVJBR6CXML9</td>\n",
       "      <td>2024</td>\n",
       "      <td>2024-09-18</td>\n",
       "      <td>$8,600,000,000.00</td>\n",
       "      <td>1</td>\n",
       "    </tr>\n",
       "  </tbody>\n",
       "</table>\n",
       "</div>"
      ],
      "text/plain": [
       "     recipient_parent_uei  action_date_fiscal_year last_modified_date  \\\n",
       "6051         QGJNGLBLVKY6                     2025         2024-11-18   \n",
       "6108         QGJNGLBLVKY6                     2025         2024-11-18   \n",
       "2304         CFWRL5LXXX93                     2024         2024-09-18   \n",
       "6353         GLPKRZJL8GM3                     2025         2024-11-05   \n",
       "2329         FPVJBR6CXML9                     2024         2024-09-18   \n",
       "\n",
       "     potential_total_value_of_award  row_count  \n",
       "6051             $50,481,562,555.57          2  \n",
       "6108             $50,481,562,555.57          2  \n",
       "2304              $8,600,000,000.00          1  \n",
       "6353              $8,600,000,000.00          1  \n",
       "2329              $8,600,000,000.00          1  "
      ]
     },
     "execution_count": 11,
     "metadata": {},
     "output_type": "execute_result"
    }
   ],
   "source": [
    "# 3. group by recipient_parent_uei and max(last_modified) and return max(potential_total_value_of_award) count(rows)\n",
    "\n",
    "# Group by recipient_parent_uei and get max last_modified_date\n",
    "df_grouped_recipient_parent_uei = df_narrow.groupby('recipient_parent_uei')['last_modified_date'].max().reset_index()\n",
    "# Merge to get potential_total_value_of_award for max last_modified_date\n",
    "df_grouped_recipient_parent_uei_max_last_modified = pd.merge(df_narrow, df_grouped_recipient_parent_uei, on=['recipient_parent_uei', 'last_modified_date'], how='inner')\n",
    "# Group by recipient_parent_uei to get the number of rows\n",
    "row_counts = df_grouped_recipient_parent_uei_max_last_modified.groupby('recipient_parent_uei').size().reset_index(name='row_count')\n",
    "# Merge row counts back to the main DataFrame\n",
    "df_grouped_recipient_parent_uei_max_last_modified = pd.merge(df_grouped_recipient_parent_uei_max_last_modified, row_counts, on='recipient_parent_uei', how='inner')\n",
    "# Select relevant columns and sort\n",
    "df_grouped_recipient_parent_uei_max_last_modified = df_grouped_recipient_parent_uei_max_last_modified[['recipient_parent_uei', 'action_date_fiscal_year', 'last_modified_date', 'potential_total_value_of_award', 'row_count']].sort_values(by='potential_total_value_of_award', ascending=False)\n",
    "\n",
    "# format the potential_total_value_of_award_sum column as currency\n",
    "df_grouped_recipient_parent_uei_max_last_modified['potential_total_value_of_award'] = df_grouped_recipient_parent_uei_max_last_modified['potential_total_value_of_award'].map('${:,.2f}'.format)\n",
    "# format the last_modified_date_max column as date\n",
    "df_grouped_recipient_parent_uei_max_last_modified['last_modified_date'] = df_grouped_recipient_parent_uei_max_last_modified['last_modified_date'].dt.strftime('%Y-%m-%d')\n",
    "\n",
    "df_grouped_recipient_parent_uei_max_last_modified.head()"
   ]
  },
  {
   "cell_type": "code",
   "execution_count": 12,
   "metadata": {},
   "outputs": [
    {
     "data": {
      "application/vnd.microsoft.datawrangler.viewer.v0+json": {
       "columns": [
        {
         "name": "index",
         "rawType": "int64",
         "type": "integer"
        },
        {
         "name": "product_or_service_code",
         "rawType": "object",
         "type": "string"
        },
        {
         "name": "product_or_service_code_description",
         "rawType": "object",
         "type": "string"
        },
        {
         "name": "action_date_fiscal_year",
         "rawType": "int64",
         "type": "integer"
        },
        {
         "name": "last_modified_date",
         "rawType": "object",
         "type": "string"
        },
        {
         "name": "potential_total_value_of_award",
         "rawType": "object",
         "type": "string"
        },
        {
         "name": "row_count",
         "rawType": "int64",
         "type": "integer"
        }
       ],
       "conversionMethod": "pd.DataFrame",
       "ref": "8ce3fead-c6c9-46c6-bdb8-f268a7fb63b2",
       "rows": [
        [
         "1336",
         "D399",
         "IT AND TELECOM- OTHER IT AND TELECOMMUNICATIONS",
         "2025",
         "2025-01-31",
         "$4,934,000,000.00",
         "1"
        ],
        [
         "577",
         "C1AA",
         "ARCHITECT AND ENGINEERING- CONSTRUCTION: OFFICE BUILDINGS",
         "2025",
         "2025-01-27",
         "$512,709,360.00",
         "1"
        ],
        [
         "482",
         "Y1FF",
         "CONSTRUCTION OF PENAL FACILITIES",
         "2025",
         "2025-01-23",
         "$461,497,000.00",
         "1"
        ],
        [
         "627",
         "7030",
         "INFORMATION TECHNOLOGY SOFTWARE",
         "2025",
         "2025-01-30",
         "$440,896,876.52",
         "1"
        ],
        [
         "652",
         "Y1AA",
         "CONSTRUCTION OF OFFICE BUILDINGS",
         "2025",
         "2024-12-03",
         "$403,835,926.00",
         "1"
        ]
       ],
       "shape": {
        "columns": 6,
        "rows": 5
       }
      },
      "text/html": [
       "<div>\n",
       "<style scoped>\n",
       "    .dataframe tbody tr th:only-of-type {\n",
       "        vertical-align: middle;\n",
       "    }\n",
       "\n",
       "    .dataframe tbody tr th {\n",
       "        vertical-align: top;\n",
       "    }\n",
       "\n",
       "    .dataframe thead th {\n",
       "        text-align: right;\n",
       "    }\n",
       "</style>\n",
       "<table border=\"1\" class=\"dataframe\">\n",
       "  <thead>\n",
       "    <tr style=\"text-align: right;\">\n",
       "      <th></th>\n",
       "      <th>product_or_service_code</th>\n",
       "      <th>product_or_service_code_description</th>\n",
       "      <th>action_date_fiscal_year</th>\n",
       "      <th>last_modified_date</th>\n",
       "      <th>potential_total_value_of_award</th>\n",
       "      <th>row_count</th>\n",
       "    </tr>\n",
       "  </thead>\n",
       "  <tbody>\n",
       "    <tr>\n",
       "      <th>1336</th>\n",
       "      <td>D399</td>\n",
       "      <td>IT AND TELECOM- OTHER IT AND TELECOMMUNICATIONS</td>\n",
       "      <td>2025</td>\n",
       "      <td>2025-01-31</td>\n",
       "      <td>$4,934,000,000.00</td>\n",
       "      <td>1</td>\n",
       "    </tr>\n",
       "    <tr>\n",
       "      <th>577</th>\n",
       "      <td>C1AA</td>\n",
       "      <td>ARCHITECT AND ENGINEERING- CONSTRUCTION: OFFIC...</td>\n",
       "      <td>2025</td>\n",
       "      <td>2025-01-27</td>\n",
       "      <td>$512,709,360.00</td>\n",
       "      <td>1</td>\n",
       "    </tr>\n",
       "    <tr>\n",
       "      <th>482</th>\n",
       "      <td>Y1FF</td>\n",
       "      <td>CONSTRUCTION OF PENAL FACILITIES</td>\n",
       "      <td>2025</td>\n",
       "      <td>2025-01-23</td>\n",
       "      <td>$461,497,000.00</td>\n",
       "      <td>1</td>\n",
       "    </tr>\n",
       "    <tr>\n",
       "      <th>627</th>\n",
       "      <td>7030</td>\n",
       "      <td>INFORMATION TECHNOLOGY SOFTWARE</td>\n",
       "      <td>2025</td>\n",
       "      <td>2025-01-30</td>\n",
       "      <td>$440,896,876.52</td>\n",
       "      <td>1</td>\n",
       "    </tr>\n",
       "    <tr>\n",
       "      <th>652</th>\n",
       "      <td>Y1AA</td>\n",
       "      <td>CONSTRUCTION OF OFFICE BUILDINGS</td>\n",
       "      <td>2025</td>\n",
       "      <td>2024-12-03</td>\n",
       "      <td>$403,835,926.00</td>\n",
       "      <td>1</td>\n",
       "    </tr>\n",
       "  </tbody>\n",
       "</table>\n",
       "</div>"
      ],
      "text/plain": [
       "     product_or_service_code  \\\n",
       "1336                    D399   \n",
       "577                     C1AA   \n",
       "482                     Y1FF   \n",
       "627                     7030   \n",
       "652                     Y1AA   \n",
       "\n",
       "                    product_or_service_code_description  \\\n",
       "1336    IT AND TELECOM- OTHER IT AND TELECOMMUNICATIONS   \n",
       "577   ARCHITECT AND ENGINEERING- CONSTRUCTION: OFFIC...   \n",
       "482                    CONSTRUCTION OF PENAL FACILITIES   \n",
       "627                     INFORMATION TECHNOLOGY SOFTWARE   \n",
       "652                    CONSTRUCTION OF OFFICE BUILDINGS   \n",
       "\n",
       "      action_date_fiscal_year last_modified_date  \\\n",
       "1336                     2025         2025-01-31   \n",
       "577                      2025         2025-01-27   \n",
       "482                      2025         2025-01-23   \n",
       "627                      2025         2025-01-30   \n",
       "652                      2025         2024-12-03   \n",
       "\n",
       "     potential_total_value_of_award  row_count  \n",
       "1336              $4,934,000,000.00          1  \n",
       "577                 $512,709,360.00          1  \n",
       "482                 $461,497,000.00          1  \n",
       "627                 $440,896,876.52          1  \n",
       "652                 $403,835,926.00          1  "
      ]
     },
     "execution_count": 12,
     "metadata": {},
     "output_type": "execute_result"
    }
   ],
   "source": [
    "# 4. group by product_or_service_code and max(last_modified) and return max(potential_total_value_of_award) count(rows)\n",
    "\n",
    "# Group by product_or_service_code and get max last_modified_date\n",
    "df_grouped_product_or_service_code = df_narrow.groupby('product_or_service_code')['last_modified_date'].max().reset_index()\n",
    "# Merge to get potential_total_value_of_award for max last_modified_date\n",
    "df_grouped_product_or_service_code_max_last_modified = pd.merge(df_narrow, df_grouped_product_or_service_code, on=['product_or_service_code', 'last_modified_date'], how='inner')\n",
    "# Group by product_or_service_code to get the number of rows\n",
    "row_counts = df_grouped_product_or_service_code_max_last_modified.groupby('product_or_service_code').size().reset_index(name='row_count')\n",
    "# Merge row counts back to the main DataFrame\n",
    "df_grouped_product_or_service_code_max_last_modified = pd.merge(df_grouped_product_or_service_code_max_last_modified, row_counts, on='product_or_service_code', how='inner')\n",
    "# Select relevant columns and sort\n",
    "df_grouped_product_or_service_code_max_last_modified = df_grouped_product_or_service_code_max_last_modified[['product_or_service_code', 'product_or_service_code_description', 'action_date_fiscal_year', 'last_modified_date', 'potential_total_value_of_award', 'row_count']].sort_values(by='potential_total_value_of_award', ascending=False)\n",
    "\n",
    "# format the potential_total_value_of_award_sum column as currency\n",
    "df_grouped_product_or_service_code_max_last_modified['potential_total_value_of_award'] = df_grouped_product_or_service_code_max_last_modified['potential_total_value_of_award'].map('${:,.2f}'.format)\n",
    "# format the last_modified_date_max column as date\n",
    "df_grouped_product_or_service_code_max_last_modified['last_modified_date'] = df_grouped_product_or_service_code_max_last_modified['last_modified_date'].dt.strftime('%Y-%m-%d')\n",
    "\n",
    "df_grouped_product_or_service_code_max_last_modified.head()"
   ]
  },
  {
   "cell_type": "code",
   "execution_count": 13,
   "metadata": {},
   "outputs": [],
   "source": [
    "# export each dataframe to a separate sheet within an excel file\n",
    "# use a relative path rather than an absolute path\n",
    "with pd.ExcelWriter(r'USA_Spending_Summary_Analysis.xlsx') as writer:  \n",
    "    df_narrow.to_excel(writer, sheet_name='raw_data')\n",
    "    df_grouped_award_id_max_last_modified.to_excel(writer, sheet_name='Summary by Award ID')\n",
    "    df_grouped_recipient_uei_max_last_modified.to_excel(writer, sheet_name='Summary by Recipient UEI')\n",
    "    df_grouped_recipient_parent_uei_max_last_modified.to_excel(writer, sheet_name='Summary by Parent Recipient UEI')\n",
    "    df_grouped_product_or_service_code_max_last_modified.to_excel(writer, sheet_name='Summary by PSC')"
   ]
  },
  {
   "cell_type": "code",
   "execution_count": null,
   "metadata": {},
   "outputs": [],
   "source": []
  }
 ],
 "metadata": {
  "kernelspec": {
   "display_name": "base",
   "language": "python",
   "name": "python3"
  },
  "language_info": {
   "codemirror_mode": {
    "name": "ipython",
    "version": 3
   },
   "file_extension": ".py",
   "mimetype": "text/x-python",
   "name": "python",
   "nbconvert_exporter": "python",
   "pygments_lexer": "ipython3",
   "version": "3.12.7"
  }
 },
 "nbformat": 4,
 "nbformat_minor": 2
}
